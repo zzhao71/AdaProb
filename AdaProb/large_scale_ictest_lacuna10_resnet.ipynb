{
 "cells": [
  {
   "cell_type": "markdown",
   "metadata": {},
   "source": [
    "## Imports"
   ]
  },
  {
   "cell_type": "code",
   "execution_count": 2,
   "metadata": {
    "scrolled": true
   },
   "outputs": [
    {
     "name": "stdout",
     "output_type": "stream",
     "text": [
      "The autoreload extension is already loaded. To reload it, use:\n",
      "  %reload_ext autoreload\n"
     ]
    }
   ],
   "source": [
    "%load_ext autoreload\n",
    "%autoreload 2\n",
    "%matplotlib inline\n",
    "import os\n",
    "os.environ['CUDA_DEVICE_ORDER']='PCI_BUS_ID'\n",
    "os.environ['CUDA_VISIBLE_DEVICES']='0'\n",
    "import variational\n",
    "import matplotlib.pyplot as plt\n",
    "import seaborn as sns\n",
    "from matplotlib.ticker import FuncFormatter\n",
    "from itertools import cycle\n",
    "import os\n",
    "import time\n",
    "import math\n",
    "import pandas as pd\n",
    "from collections import OrderedDict\n",
    "from sklearn.linear_model import LogisticRegression\n",
    "from sklearn.metrics import confusion_matrix\n",
    "    \n",
    "import copy\n",
    "import torch.nn as nn\n",
    "from torch.autograd import Variable\n",
    "from typing import List\n",
    "import itertools\n",
    "from tqdm.autonotebook import tqdm\n",
    "from models import *\n",
    "import models\n",
    "from logger import *\n",
    "\n",
    "from thirdparty.repdistiller.helper.util import adjust_learning_rate as sgda_adjust_learning_rate\n",
    "from thirdparty.repdistiller.distiller_zoo import DistillKL, HintLoss, Attention, Similarity, Correlation, VIDLoss, RKDLoss\n",
    "from thirdparty.repdistiller.distiller_zoo import PKT, ABLoss, FactorTransfer, KDSVD, FSP, NSTLoss\n",
    "\n",
    "from thirdparty.repdistiller.helper.loops import train_distill, train_distill_hide, train_distill_linear, train_vanilla, train_negrad, train_bcu, train_bcu_distill, validate\n",
    "from thirdparty.repdistiller.helper.pretrain import init"
   ]
  },
  {
   "cell_type": "markdown",
   "metadata": {},
   "source": [
    "## Metrics1"
   ]
  },
  {
   "cell_type": "code",
   "execution_count": 3,
   "metadata": {},
   "outputs": [],
   "source": [
    "from utils import *\n",
    "def get_metrics(model,dataloader,criterion,samples_correctness=False,use_bn=False,delta_w=None,scrub_act=False):\n",
    "    activations=[]\n",
    "    predictions=[]\n",
    "    if use_bn:\n",
    "        model.train()\n",
    "        dataloader = torch.utils.data.DataLoader(retain_loader.dataset, batch_size=128, shuffle=True)\n",
    "        for i in range(10):\n",
    "            for batch_idx, (data, target) in enumerate(dataloader):\n",
    "                data, target = data.to(args.device), target.to(args.device)            \n",
    "                output = model(data)\n",
    "    dataloader = torch.utils.data.DataLoader(dataloader.dataset, batch_size=1, shuffle=False)\n",
    "    model.eval()\n",
    "    metrics = AverageMeter()\n",
    "    mult = 0.5 if args.lossfn=='mse' else 1\n",
    "    for batch_idx, (data, target) in enumerate(dataloader):\n",
    "        data, target = data.to(args.device), target.to(args.device)            \n",
    "        if args.lossfn=='mse':\n",
    "            target=(2*target-1)\n",
    "            target = target.type(torch.cuda.FloatTensor).unsqueeze(1)\n",
    "        if 'mnist' in args.dataset:\n",
    "            data=data.view(data.shape[0],-1)\n",
    "        output = model(data)\n",
    "        loss = mult*criterion(output, target)\n",
    "        if samples_correctness:\n",
    "            activations.append(torch.nn.functional.softmax(output,dim=1).cpu().detach().numpy().squeeze())\n",
    "            predictions.append(get_error(output,target))\n",
    "        metrics.update(n=data.size(0), loss=loss.item(), error=get_error(output, target))\n",
    "    if samples_correctness:\n",
    "        return metrics.avg,np.stack(activations),np.array(predictions)\n",
    "    else:\n",
    "        return metrics.avg\n",
    "\n",
    "def activations_predictions(model,dataloader,name):\n",
    "    criterion = torch.nn.CrossEntropyLoss()\n",
    "    metrics,activations,predictions=get_metrics(model,dataloader,criterion,True)\n",
    "    print(f\"{name} -> Loss:{np.round(metrics['loss'],3)}, Error:{metrics['error']}\")\n",
    "    log_dict[f\"{name}_loss\"]=metrics['loss']\n",
    "    log_dict[f\"{name}_error\"]=metrics['error']\n",
    "\n",
    "    return activations,predictions\n",
    "\n",
    "def predictions_distance(l1,l2,name):\n",
    "    dist = np.sum(np.abs(l1-l2))\n",
    "    print(f\"Predictions Distance {name} -> {dist}\")\n",
    "    log_dict[f\"{name}_predictions\"]=dist\n",
    "\n",
    "def activations_distance(a1,a2,name):\n",
    "    dist = np.linalg.norm(a1-a2,ord=1,axis=1).mean()\n",
    "    print(f\"Activations Distance {name} -> {dist}\")\n",
    "    log_dict[f\"{name}_activations\"]=dist\n",
    "\n",
    "def interclass_confusion(model, dataloader, class_to_forget, name):\n",
    "    criterion = torch.nn.CrossEntropyLoss()\n",
    "    dataloader = torch.utils.data.DataLoader(dataloader.dataset, batch_size=128, shuffle=False)\n",
    "    model.eval()\n",
    "    reals=[]\n",
    "    predicts=[]\n",
    "    for batch_idx, (data, target) in enumerate(dataloader):\n",
    "        data, target = data.to(args.device), target.to(args.device) \n",
    "        if 'mnist' in args.dataset:\n",
    "            data=data.view(data.shape[0],-1)\n",
    "        output = model(data)\n",
    "        probs = torch.nn.functional.softmax(output, dim=1)\n",
    "        predict = np.argmax(probs.cpu().detach().numpy(),axis=1)\n",
    "        reals = reals + list(target.cpu().detach().numpy())\n",
    "        predicts = predicts + list(predict)\n",
    "    \n",
    "    classes = [0, 1, 2, 3, 4, 5, 6, 7, 8, 9]\n",
    "    cm = confusion_matrix(reals, predicts, labels=classes)\n",
    "    counts = 0\n",
    "    for i in range(len(cm)):\n",
    "        if i != class_to_forget[0]:\n",
    "            counts += cm[class_to_forget[0]][i]\n",
    "        if i != class_to_forget[1]:\n",
    "            counts += cm[class_to_forget[1]][i]\n",
    "    \n",
    "    ic_err = counts / (np.sum(cm[class_to_forget[0]]) + np.sum(cm[class_to_forget[1]]))\n",
    "    fgt = cm[class_to_forget[0]][class_to_forget[1]] + cm[class_to_forget[1]][class_to_forget[0]]\n",
    "    #print (cm)\n",
    "    return ic_err, fgt"
   ]
  },
  {
   "cell_type": "markdown",
   "metadata": {},
   "source": [
    "## Helper and Utils"
   ]
  },
  {
   "cell_type": "code",
   "execution_count": 4,
   "metadata": {},
   "outputs": [],
   "source": [
    "from utils import *\n",
    "def get_metrics(model,dataloader,criterion,samples_correctness=False,use_bn=False,delta_w=None,scrub_act=False):\n",
    "    activations=[]\n",
    "    predictions=[]\n",
    "    if use_bn:\n",
    "        model.train()\n",
    "        dataloader = torch.utils.data.DataLoader(retain_loader.dataset, batch_size=128, shuffle=True)\n",
    "        for i in range(10):\n",
    "            for batch_idx, (data, target) in enumerate(dataloader):\n",
    "                data, target = data.to(args.device), target.to(args.device)            \n",
    "                output = model(data)\n",
    "    dataloader = torch.utils.data.DataLoader(dataloader.dataset, batch_size=1, shuffle=False)\n",
    "    model.eval()\n",
    "    metrics = AverageMeter()\n",
    "    mult = 0.5 if args.lossfn=='mse' else 1\n",
    "    for batch_idx, (data, target) in enumerate(dataloader):\n",
    "        data, target = data.to(args.device), target.to(args.device)            \n",
    "        if args.lossfn=='mse':\n",
    "            target=(2*target-1)\n",
    "            target = target.type(torch.cuda.FloatTensor).unsqueeze(1)\n",
    "        if 'mnist' in args.dataset:\n",
    "            data=data.view(data.shape[0],-1)\n",
    "        output = model(data)\n",
    "        if scrub_act:\n",
    "            G = []\n",
    "            for cls in range(num_classes):\n",
    "                grads = torch.autograd.grad(output[0,cls],model.parameters(),retain_graph=True)\n",
    "                grads = torch.cat([g.view(-1) for g in grads])\n",
    "                G.append(grads)\n",
    "            grads = torch.autograd.grad(output_sf[0,cls],model_scrubf.parameters(),retain_graph=False)\n",
    "            G = torch.stack(G).pow(2)\n",
    "            delta_f = torch.matmul(G,delta_w)\n",
    "            output += delta_f.sqrt()*torch.empty_like(delta_f).normal_()\n",
    "\n",
    "        loss = mult*criterion(output, target)\n",
    "        if samples_correctness:\n",
    "            activations.append(torch.nn.functional.softmax(output,dim=1).cpu().detach().numpy().squeeze())\n",
    "            predictions.append(get_error(output,target))\n",
    "        metrics.update(n=data.size(0), loss=loss.item(), error=get_error(output, target))\n",
    "    if samples_correctness:\n",
    "        return metrics.avg,np.stack(activations),np.array(predictions)\n",
    "    else:\n",
    "        return metrics.avg\n",
    "\n",
    "def l2_penalty(model,model_init,weight_decay):\n",
    "    l2_loss = 0\n",
    "    for (k,p),(k_init,p_init) in zip(model.named_parameters(),model_init.named_parameters()):\n",
    "        if p.requires_grad:\n",
    "            l2_loss += (p-p_init).pow(2).sum()\n",
    "    l2_loss *= (weight_decay/2.)\n",
    "    return l2_loss\n",
    "\n",
    "def run_train_epoch(model: nn.Module, model_init, data_loader: torch.utils.data.DataLoader, \n",
    "                    loss_fn: nn.Module,\n",
    "                    optimizer: torch.optim.SGD, split: str, epoch: int, ignore_index=None,\n",
    "                    negative_gradient=False, negative_multiplier=-1, random_labels=False,\n",
    "                    quiet=False,delta_w=None,scrub_act=False):\n",
    "    model.eval()\n",
    "    metrics = AverageMeter()    \n",
    "    num_labels = data_loader.dataset.targets.max().item() + 1\n",
    "    \n",
    "    with torch.set_grad_enabled(split != 'test'):\n",
    "        for idx, batch in enumerate(tqdm(data_loader, leave=False)):\n",
    "            batch = [tensor.to(next(model.parameters()).device) for tensor in batch]\n",
    "            input, target = batch\n",
    "            output = model(input)\n",
    "            if split=='test' and scrub_act:\n",
    "                G = []\n",
    "                for cls in range(num_classes):\n",
    "                    grads = torch.autograd.grad(output[0,cls],model.parameters(),retain_graph=True)\n",
    "                    grads = torch.cat([g.view(-1) for g in grads])\n",
    "                    G.append(grads)\n",
    "                grads = torch.autograd.grad(output_sf[0,cls],model_scrubf.parameters(),retain_graph=False)\n",
    "                G = torch.stack(G).pow(2)\n",
    "                delta_f = torch.matmul(G,delta_w)\n",
    "                output += delta_f.sqrt()*torch.empty_like(delta_f).normal_()\n",
    "            loss = loss_fn(output, target) + l2_penalty(model,model_init,args.weight_decay)\n",
    "            metrics.update(n=input.size(0), loss=loss_fn(output,target).item(), error=get_error(output, target))\n",
    "            \n",
    "            if split != 'test':\n",
    "                model.zero_grad()\n",
    "                loss.backward()\n",
    "                optimizer.step()\n",
    "    if not quiet:\n",
    "        log_metrics(split, metrics, epoch)\n",
    "    return metrics.avg\n",
    "\n",
    "def run_neggrad_epoch(model: nn.Module, model_init, data_loader: torch.utils.data.DataLoader, \n",
    "                    forget_loader: torch.utils.data.DataLoader,\n",
    "                    alpha: float,\n",
    "                    loss_fn: nn.Module,\n",
    "                    optimizer: torch.optim.SGD, split: str, epoch: int, ignore_index=None,\n",
    "                    quiet=False):\n",
    "    model.eval()\n",
    "    metrics = AverageMeter()    \n",
    "    num_labels = data_loader.dataset.targets.max().item() + 1\n",
    "    \n",
    "    with torch.set_grad_enabled(split != 'test'):\n",
    "        for idx, (batch_retain,batch_forget) in enumerate(tqdm(zip(data_loader,cycle(forget_loader)), leave=False)):\n",
    "            batch_retain = [tensor.to(next(model.parameters()).device) for tensor in batch_retain]\n",
    "            batch_forget = [tensor.to(next(model.parameters()).device) for tensor in batch_forget]\n",
    "            input_r, target_r = batch_retain\n",
    "            input_f, target_f = batch_forget\n",
    "            output_r = model(input_r)\n",
    "            output_f = model(input_f)\n",
    "            loss = alpha*(loss_fn(output_r, target_r) + l2_penalty(model,model_init,args.weight_decay)) - (1-alpha)*loss_fn(output_f, target_f)\n",
    "            metrics.update(n=input_r.size(0), loss=loss_fn(output_r,target_r).item(), error=get_error(output_r, target_r))\n",
    "            if split != 'test':\n",
    "                model.zero_grad()\n",
    "                loss.backward()\n",
    "                optimizer.step()\n",
    "    if not quiet:\n",
    "        log_metrics(split, metrics, epoch)\n",
    "    return metrics.avg"
   ]
  },
  {
   "cell_type": "code",
   "execution_count": 5,
   "metadata": {},
   "outputs": [],
   "source": [
    "def test(model, data_loader):\n",
    "    loss_fn = nn.CrossEntropyLoss()\n",
    "    model_init=copy.deepcopy(model)\n",
    "    return run_train_epoch(model, model_init, data_loader, loss_fn, optimizer=None, split='test', epoch=epoch, ignore_index=None, quiet=True)\n",
    "\n",
    "def readout_retrain(model, data_loader, test_loader, lr=0.1, epochs=500, threshold=0.01, quiet=True):\n",
    "    torch.manual_seed(seed)\n",
    "    model = copy.deepcopy(model)\n",
    "    loss_fn = nn.CrossEntropyLoss()\n",
    "    optimizer = torch.optim.SGD(model.parameters(), lr=lr, weight_decay=0.0)\n",
    "    sampler = torch.utils.data.RandomSampler(data_loader.dataset, replacement=True, num_samples=500)\n",
    "    data_loader_small = torch.utils.data.DataLoader(data_loader.dataset, batch_size=data_loader.batch_size, sampler=sampler, num_workers=data_loader.num_workers)\n",
    "    metrics = []\n",
    "    model_init=copy.deepcopy(model)\n",
    "    for epoch in range(epochs):\n",
    "        metrics.append(run_train_epoch(model, model_init, test_loader, loss_fn, optimizer, split='test', epoch=epoch, ignore_index=None, quiet=quiet))\n",
    "        if metrics[-1]['loss'] <= threshold:\n",
    "            break\n",
    "        run_train_epoch(model, model_init, data_loader_small, loss_fn, optimizer, split='train', epoch=epoch, ignore_index=None, quiet=quiet)\n",
    "    return epoch, metrics\n",
    "\n",
    "def extract_retrain_time(metrics, threshold=0.1):\n",
    "    losses = np.array([m['loss'] for m in metrics])\n",
    "    return np.argmax(losses < threshold)\n",
    "\n",
    "def all_readouts(test_loader, retain_loader, forget_loader, model, wandb=None,thresh=0.1,name='method'):\n",
    "    #train_loader = torch.utils.data.DataLoader(train_loader_full.dataset, batch_size=args.batch_size, shuffle=True)\n",
    "    #retrain_time, _ = readout_retrain(model, train_loader, forget_loader, epochs=100, lr=0.1, threshold=thresh)\n",
    "    test_error = test(model, test_loader)['error']\n",
    "    forget_error = test(model, forget_loader)['error']\n",
    "    retain_error = test(model, retain_loader)['error']\n",
    "    ic_err_test, fgt_test = interclass_confusion(model, test_loader, class_to_forget, name)\n",
    "    ic_err_retain, fgt_retain = interclass_confusion(model, retain_loader, class_to_forget, name)\n",
    "    print(f\"{name} ->\"\n",
    "          f\"\\ttest: {test_error:.2%}\"\n",
    "          f\"\\tForget: {forget_error:.2%}\\tRetain: {retain_error:.2%}\"\n",
    "          f\"\\tIC-test: {ic_err_test}\\tfgt-test: {fgt_test}\"\n",
    "          f\"\\tIC-retain: {ic_err_retain}\\tfgt-retain: {fgt_retain}\")\n",
    "    #log_dict[f\"{name}_retrain_time\"]=retrain_time+1\n",
    "    if wandb is not None:\n",
    "        #wandb.log({f\"{name}_RLT\": retrain_time + 1})\n",
    "        wandb.log({f\"{name}_test_error\": test_error})\n",
    "        wandb.log({f\"{name}_retain_error\": retain_error})\n",
    "        wandb.log({f\"{name}_forget_error\": forget_error})\n",
    "        wandb.log({f\"{name}_IC_err_test\": ic_err_test})\n",
    "        wandb.log({f\"{name}_IC_err_retain\": ic_err_retain})\n",
    "        wandb.log({f\"{name}_fgt_test\": fgt_test})\n",
    "        wandb.log({f\"{name}_fgt_retain\": fgt_retain})\n",
    "    return(dict(test_error=test_error, forget_error=forget_error, retain_error=retain_error))"
   ]
  },
  {
   "cell_type": "markdown",
   "metadata": {},
   "source": [
    "## Forgetting helper functions"
   ]
  },
  {
   "cell_type": "code",
   "execution_count": 6,
   "metadata": {},
   "outputs": [],
   "source": [
    "def finetune(model: nn.Module, data_loader: torch.utils.data.DataLoader, lr=0.01, epochs=10, quiet=False):\n",
    "    loss_fn = nn.CrossEntropyLoss()\n",
    "    optimizer = torch.optim.SGD(model.parameters(), lr=lr, weight_decay=0.0)\n",
    "    model_init=copy.deepcopy(model)\n",
    "    for epoch in range(epochs):\n",
    "        run_train_epoch(model, model_init, data_loader, loss_fn, optimizer, split='train', epoch=epoch, ignore_index=None, quiet=quiet)\n",
    "        #train_vanilla(epoch, data_loader, model, loss_fn, optimizer, args)\n",
    "\n",
    "def negative_grad(model: nn.Module, data_loader: torch.utils.data.DataLoader, forget_loader: torch.utils.data.DataLoader, alpha: float, lr=0.01, epochs=10, quiet=False, args=None):\n",
    "    loss_fn = nn.CrossEntropyLoss()\n",
    "    optimizer = torch.optim.SGD(model.parameters(), lr=lr, weight_decay=0.0)\n",
    "    model_init=copy.deepcopy(model)\n",
    "    for epoch in range(epochs):\n",
    "        #run_neggrad_epoch(model, model_init, data_loader, forget_loader, alpha, loss_fn, optimizer, split='train', epoch=epoch, ignore_index=None, quiet=quiet)\n",
    "        train_negrad(epoch, data_loader, forget_loader, model, loss_fn, optimizer,  alpha, args)\n",
    "\n",
    "def fk_fientune(model: nn.Module, data_loader: torch.utils.data.DataLoader, args, lr=0.01, epochs=10, quiet=False):\n",
    "    loss_fn = nn.CrossEntropyLoss()\n",
    "    optimizer = torch.optim.SGD(model.parameters(), lr=lr, weight_decay=0.0005)\n",
    "    model_init=copy.deepcopy(model)\n",
    "    for epoch in range(epochs):\n",
    "        sgda_adjust_learning_rate(epoch, args, optimizer)\n",
    "        #train_vanilla(epoch, data_loader, model, loss_fn, optimizer, args)\n",
    "        run_train_epoch(model, model_init, data_loader, loss_fn, optimizer, split='train', epoch=epoch, ignore_index=None, quiet=quiet)\n",
    "\n",
    "def pdb():\n",
    "    import pdb\n",
    "    pdb.set_trace\n",
    "    \n",
    "def parameter_count(model):\n",
    "    count=0\n",
    "    for p in model.parameters():\n",
    "        count+=np.prod(np.array(list(p.shape)))\n",
    "    print(f'Total Number of Parameters: {count}')\n",
    "    \n",
    "def vectorize_params(model):\n",
    "    param = []\n",
    "    for p in model.parameters():\n",
    "        param.append(p.data.view(-1).cpu().numpy())\n",
    "    return np.concatenate(param)\n",
    "\n",
    "def print_param_shape(model):\n",
    "    for k,p in model.named_parameters():\n",
    "        print(k,p.shape)\n",
    "\n",
    "def distance(model,model0):\n",
    "    distance=0\n",
    "    normalization=0\n",
    "    for (k, p), (k0, p0) in zip(model.named_parameters(), model0.named_parameters()):\n",
    "        space='  ' if 'bias' in k else ''\n",
    "        current_dist=(p.data0-p0.data0).pow(2).sum().item()\n",
    "        current_norm=p.data0.pow(2).sum().item()\n",
    "        distance+=current_dist\n",
    "        normalization+=current_norm\n",
    "    print(f'Distance: {np.sqrt(distance)}')\n",
    "    print(f'Normalized Distance: {1.0*np.sqrt(distance/normalization)}')\n",
    "    return 1.0*np.sqrt(distance/normalization)\n",
    "\n",
    "def ntk_init(resume,seed=1):\n",
    "    manual_seed(seed)\n",
    "    model_init = models.get_model(arch, num_classes=num_classes, filters_percentage=filters).to(args.device)\n",
    "    model_init.load_state_dict(torch.load(resume))\n",
    "    return model_init"
   ]
  },
  {
   "cell_type": "markdown",
   "metadata": {},
   "source": [
    "### Pre-training"
   ]
  },
  {
   "cell_type": "code",
   "execution_count": 7,
   "metadata": {
    "scrolled": true
   },
   "outputs": [
    {
     "name": "stdout",
     "output_type": "stream",
     "text": [
      "Checkpoint name: lacuna100_resnet_1_0_forget_None_lr_0_1_bs_128_ls_ce_wd_0_0005_seed_1\n",
      "[Logging in lacuna100_resnet_1_0_forget_None_lr_0_1_bs_128_ls_ce_wd_0_0005_seed_1_training]\n",
      "confuse mode: False\n",
      "split mode: None\n",
      "Number of Classes: 100\n",
      "[0] train metrics:{\"loss\": 3.987484888076782, \"error\": 0.923}\n",
      "Learning Rate : 0.1\n",
      "[0] dry_run metrics:{\"loss\": 3.395326801300049, \"error\": 0.83653125}\n",
      "Learning Rate : 0.1\n",
      "[0] test metrics:{\"loss\": 3.4219942169189452, \"error\": 0.8447}\n",
      "Learning Rate : 0.1\n",
      "Epoch Time: 20.34 sec\n",
      "[1] train metrics:{\"loss\": 3.1922737522125244, \"error\": 0.78334375}\n",
      "Learning Rate : 0.1\n",
      "Epoch Time: 10.95 sec\n",
      "[2] train metrics:{\"loss\": 2.6385717277526854, \"error\": 0.63821875}\n",
      "Learning Rate : 0.1\n",
      "Epoch Time: 10.77 sec\n",
      "[3] train metrics:{\"loss\": 2.220917667865753, \"error\": 0.51859375}\n",
      "Learning Rate : 0.1\n",
      "Epoch Time: 8.45 sec\n",
      "[4] train metrics:{\"loss\": 1.9556603002548218, \"error\": 0.41671875}\n",
      "Learning Rate : 0.1\n",
      "Epoch Time: 8.55 sec\n",
      "[5] train metrics:{\"loss\": 1.722495491027832, \"error\": 0.32259375}\n",
      "Learning Rate : 0.1\n",
      "Epoch Time: 11.09 sec\n",
      "[6] train metrics:{\"loss\": 1.5956408495903016, \"error\": 0.26075}\n",
      "Learning Rate : 0.1\n",
      "Epoch Time: 10.94 sec\n",
      "[7] train metrics:{\"loss\": 1.567377972126007, \"error\": 0.22371875}\n",
      "Learning Rate : 0.1\n",
      "Epoch Time: 11.05 sec\n",
      "[8] train metrics:{\"loss\": 1.5533827967643739, \"error\": 0.1940625}\n",
      "Learning Rate : 0.1\n",
      "Epoch Time: 11.03 sec\n",
      "[9] train metrics:{\"loss\": 1.523199393749237, \"error\": 0.16503125}\n",
      "Learning Rate : 0.1\n",
      "Epoch Time: 9.36 sec\n",
      "[10] train metrics:{\"loss\": 1.531425853729248, \"error\": 0.150625}\n",
      "Learning Rate : 0.1\n",
      "Epoch Time: 8.47 sec\n",
      "[11] train metrics:{\"loss\": 1.521689467906952, \"error\": 0.1343125}\n",
      "Learning Rate : 0.1\n",
      "Epoch Time: 9.44 sec\n",
      "[12] train metrics:{\"loss\": 1.5069730429649353, \"error\": 0.1225625}\n",
      "Learning Rate : 0.1\n",
      "Epoch Time: 11.08 sec\n",
      "[13] train metrics:{\"loss\": 1.5114346590042114, \"error\": 0.12234375}\n",
      "Learning Rate : 0.1\n",
      "Epoch Time: 11.06 sec\n",
      "[14] train metrics:{\"loss\": 1.517757547855377, \"error\": 0.1201875}\n",
      "Learning Rate : 0.1\n",
      "Epoch Time: 11.09 sec\n",
      "[15] train metrics:{\"loss\": 1.5435997090339661, \"error\": 0.1189375}\n",
      "Learning Rate : 0.1\n",
      "Epoch Time: 11.17 sec\n",
      "[16] train metrics:{\"loss\": 1.5590977020263672, \"error\": 0.11846875}\n",
      "Learning Rate : 0.1\n",
      "Epoch Time: 8.47 sec\n",
      "[17] train metrics:{\"loss\": 1.543018394470215, \"error\": 0.10815625}\n",
      "Learning Rate : 0.1\n",
      "Epoch Time: 8.6 sec\n",
      "[18] train metrics:{\"loss\": 1.5397232418060303, \"error\": 0.10703125}\n",
      "Learning Rate : 0.1\n",
      "Epoch Time: 10.62 sec\n",
      "[19] train metrics:{\"loss\": 1.5722574791908264, \"error\": 0.11421875}\n",
      "Learning Rate : 0.1\n",
      "Epoch Time: 11.06 sec\n",
      "[20] train metrics:{\"loss\": 1.5940280084609986, \"error\": 0.1075}\n",
      "Learning Rate : 0.1\n",
      "Epoch Time: 11.19 sec\n",
      "[21] train metrics:{\"loss\": 1.5399379086494447, \"error\": 0.0955625}\n",
      "Learning Rate : 0.1\n",
      "Epoch Time: 11.12 sec\n",
      "[22] train metrics:{\"loss\": 1.5899784002304078, \"error\": 0.1098125}\n",
      "Learning Rate : 0.1\n",
      "Epoch Time: 9.6 sec\n",
      "[23] train metrics:{\"loss\": 1.6024198775291443, \"error\": 0.1053125}\n",
      "Learning Rate : 0.1\n",
      "Epoch Time: 8.45 sec\n",
      "[24] train metrics:{\"loss\": 1.549412570476532, \"error\": 0.09359375}\n",
      "Learning Rate : 0.1\n",
      "Epoch Time: 9.16 sec\n",
      "[25] train metrics:{\"loss\": 1.580799273967743, \"error\": 0.1025}\n",
      "Learning Rate : 0.1\n",
      "Epoch Time: 11.24 sec\n",
      "[26] train metrics:{\"loss\": 1.577813358783722, \"error\": 0.10015625}\n",
      "Learning Rate : 0.1\n",
      "Epoch Time: 11.2 sec\n",
      "[27] train metrics:{\"loss\": 1.5733731870651244, \"error\": 0.09746875}\n",
      "Learning Rate : 0.1\n",
      "Epoch Time: 11.26 sec\n",
      "[28] train metrics:{\"loss\": 1.586123302936554, \"error\": 0.10090625}\n",
      "Learning Rate : 0.1\n",
      "Epoch Time: 11.2 sec\n",
      "[29] train metrics:{\"loss\": 1.5767607717514038, \"error\": 0.094625}\n",
      "Learning Rate : 0.1\n",
      "Epoch Time: 8.59 sec\n",
      "[30] train metrics:{\"loss\": 1.5994566655158997, \"error\": 0.1015}\n",
      "Learning Rate : 0.1\n",
      "Epoch Time: 9.1 sec\n",
      "Pure training time: 316.23999999999995 sec\n"
     ]
    }
   ],
   "source": [
    "%run main.py --dataset lacuna100 --dataroot=data/lacuna100/ --model resnet --filters 1.0 --lr 0.1 --lossfn ce --num-classes 100"
   ]
  },
  {
   "cell_type": "markdown",
   "metadata": {},
   "source": [
    "### Original"
   ]
  },
  {
   "cell_type": "code",
   "execution_count": 8,
   "metadata": {
    "scrolled": true
   },
   "outputs": [],
   "source": [
    "#%run main.py --dataset small_lacuna6 --model allcnn --dataroot=data/lacuna10/ --filters 1.0 --lr 0.001 \\\n",
    "#--resume checkpoints/lacuna100_allcnn_1_0_forget_None_lr_0_1_bs_128_ls_ce_wd_0_0005_seed_1_30.pt --disable-bn \\\n",
    "#--weight-decay 0.1 --batch-size 128 --epochs 31 --seed 3"
   ]
  },
  {
   "cell_type": "code",
   "execution_count": 9,
   "metadata": {},
   "outputs": [
    {
     "name": "stdout",
     "output_type": "stream",
     "text": [
      "Checkpoint name: lacuna10_resnet_1_0_forget_None_lr_0_01_bs_128_ls_ce_wd_0_0005_seed_1\n",
      "[Logging in lacuna10_resnet_1_0_forget_None_lr_0_01_bs_128_ls_ce_wd_0_0005_seed_1_training]\n",
      "confuse mode: True\n",
      "split mode: train\n",
      "[181 258  15  65 216  63 240 228 167 156  64 103 124 315 310  60 122 271\n",
      "  66  26 286 158 136 309 164 200 272   7   6 230 254  22 152  21  55 157\n",
      "  12 108  68 144 170 278  59 134 231  92 175 267  74  81 288 259 264  52\n",
      " 133 176  56  90 248  17   1   8 150 206 209 140 217 194   5  33 280  34\n",
      " 212 215 263 137  45 101 266 126 198 238 199 222 120 245 135  73 313 304\n",
      " 116 255  29  97  20  46 213 262 312  89 369 360 532 599 463 551 408 322\n",
      " 553 447 516 415 575 515 555 339 331 511 568 503 519 512 492 343 578 632\n",
      " 375 636 535 514 542 462 489 337 559 364 525 442 526 405 562 368 533 548\n",
      " 372 629 637 334 493 485 450 436 617 321 464 466 536 336 595 397 517 522\n",
      " 345 382 328 355 465 341 616 624 600 509 504 434 546 390 543 357 472 531\n",
      " 399 354 510 384 423 585 347 613 541 572 497 332 353 470 549 370 618 351\n",
      " 520 398]\n",
      "Number of Classes: 10\n",
      "[0] train metrics:{\"loss\": 0.589651049375534, \"error\": 0.169375}\n",
      "Learning Rate : 0.01\n",
      "[0] test metrics:{\"loss\": 0.3071651813983917, \"error\": 0.0869999966621399}\n",
      "Learning Rate : 0.01\n",
      "Epoch Time: 1.39 sec\n",
      "[1] train metrics:{\"loss\": 0.2670166563987732, \"error\": 0.11375}\n",
      "Learning Rate : 0.01\n",
      "Epoch Time: 1.09 sec\n",
      "[2] train metrics:{\"loss\": 0.18115923881530763, \"error\": 0.081875}\n",
      "Learning Rate : 0.01\n",
      "Epoch Time: 1.1 sec\n",
      "[3] train metrics:{\"loss\": 0.14916219890117646, \"error\": 0.068125}\n",
      "Learning Rate : 0.01\n",
      "Epoch Time: 1.09 sec\n",
      "[4] train metrics:{\"loss\": 0.13225296020507812, \"error\": 0.0625}\n",
      "Learning Rate : 0.01\n",
      "Epoch Time: 1.11 sec\n",
      "[5] train metrics:{\"loss\": 0.11052428781986237, \"error\": 0.0528125}\n",
      "Learning Rate : 0.01\n",
      "Epoch Time: 1.19 sec\n",
      "[6] train metrics:{\"loss\": 0.12346681982278823, \"error\": 0.0609375}\n",
      "Learning Rate : 0.01\n",
      "Epoch Time: 1.09 sec\n",
      "[7] train metrics:{\"loss\": 0.10029780060052872, \"error\": 0.043125}\n",
      "Learning Rate : 0.01\n",
      "Epoch Time: 1.11 sec\n",
      "[8] train metrics:{\"loss\": 0.08453558519482612, \"error\": 0.034375}\n",
      "Learning Rate : 0.01\n",
      "Epoch Time: 1.12 sec\n",
      "[9] train metrics:{\"loss\": 0.07072421155869961, \"error\": 0.0315625}\n",
      "Learning Rate : 0.01\n",
      "Epoch Time: 1.09 sec\n",
      "[10] train metrics:{\"loss\": 0.07172581106424332, \"error\": 0.02875}\n",
      "Learning Rate : 0.01\n",
      "Epoch Time: 1.19 sec\n",
      "[11] train metrics:{\"loss\": 0.06146708309650421, \"error\": 0.0271875}\n",
      "Learning Rate : 0.01\n",
      "Epoch Time: 1.11 sec\n",
      "[12] train metrics:{\"loss\": 0.0717173782736063, \"error\": 0.030625}\n",
      "Learning Rate : 0.01\n",
      "Epoch Time: 1.1 sec\n",
      "[13] train metrics:{\"loss\": 0.0838085025548935, \"error\": 0.0346875}\n",
      "Learning Rate : 0.01\n",
      "Epoch Time: 1.14 sec\n",
      "[14] train metrics:{\"loss\": 0.05625640660524368, \"error\": 0.025}\n",
      "Learning Rate : 0.01\n",
      "Epoch Time: 1.11 sec\n",
      "[15] train metrics:{\"loss\": 0.05617266610264778, \"error\": 0.024375}\n",
      "Learning Rate : 0.01\n",
      "Epoch Time: 1.18 sec\n",
      "[16] train metrics:{\"loss\": 0.0597886473685503, \"error\": 0.025}\n",
      "Learning Rate : 0.01\n",
      "Epoch Time: 1.11 sec\n",
      "[17] train metrics:{\"loss\": 0.07512851443141699, \"error\": 0.028125}\n",
      "Learning Rate : 0.01\n",
      "Epoch Time: 1.1 sec\n",
      "[18] train metrics:{\"loss\": 0.060404927954077724, \"error\": 0.024375}\n",
      "Learning Rate : 0.01\n",
      "Epoch Time: 1.11 sec\n",
      "[19] train metrics:{\"loss\": 0.051007045209407804, \"error\": 0.02625}\n",
      "Learning Rate : 0.01\n",
      "Epoch Time: 1.1 sec\n",
      "[20] train metrics:{\"loss\": 0.05638246718794107, \"error\": 0.0271875}\n",
      "Learning Rate : 0.01\n",
      "Epoch Time: 1.2 sec\n",
      "[21] train metrics:{\"loss\": 0.05464376173913479, \"error\": 0.0275}\n",
      "Learning Rate : 0.01\n",
      "Epoch Time: 1.09 sec\n",
      "[22] train metrics:{\"loss\": 0.055572110563516616, \"error\": 0.0265625}\n",
      "Learning Rate : 0.01\n",
      "Epoch Time: 1.12 sec\n",
      "[23] train metrics:{\"loss\": 0.050947729125618936, \"error\": 0.0278125}\n",
      "Learning Rate : 0.01\n",
      "Epoch Time: 1.1 sec\n",
      "[24] train metrics:{\"loss\": 0.04976472221314907, \"error\": 0.024375}\n",
      "Learning Rate : 0.01\n",
      "Epoch Time: 1.09 sec\n",
      "[25] train metrics:{\"loss\": 0.05443723313510418, \"error\": 0.0221875}\n",
      "Learning Rate : 0.01\n",
      "Epoch Time: 1.2 sec\n",
      "Pure training time: 28.700000000000003 sec\n"
     ]
    }
   ],
   "source": [
    "%run main.py --dataset lacuna10 --model resnet --dataroot=data/lacuna10/ --filters 1.0 --lr 0.01 \\\n",
    "--resume checkpoints/lacuna100_resnet_1_0_forget_None_lr_0_1_bs_128_ls_ce_wd_0_0005_seed_1_30.pt --disable-bn \\\n",
    "--weight-decay 0.0005 --batch-size 128 --epochs 26 --seed 1 \\\n",
    "--split train --confuse-mode --forget-class 0,1 --num-to-forget 200"
   ]
  },
  {
   "cell_type": "markdown",
   "metadata": {},
   "source": [
    "### Retrain"
   ]
  },
  {
   "cell_type": "code",
   "execution_count": 10,
   "metadata": {
    "scrolled": true
   },
   "outputs": [],
   "source": [
    "#%run main.py --dataset small_lacuna6 --model allcnn --dataroot=data/lacuna10/ --filters 1.0 --lr 0.001 \\\n",
    "#--resume checkpoints/lacuna100_allcnn_1_0_forget_None_lr_0_1_bs_128_ls_ce_wd_0_0005_seed_1_30.pt --disable-bn \\\n",
    "#--weight-decay 0.1 --batch-size 128 --epochs 31 \\\n",
    "#--forget-class 0,1,2,3,4,5 --num-to-forget 300 --seed 3"
   ]
  },
  {
   "cell_type": "code",
   "execution_count": 11,
   "metadata": {},
   "outputs": [
    {
     "name": "stdout",
     "output_type": "stream",
     "text": [
      "Checkpoint name: lacuna10_resnet_1_0_forget_[0, 1]_num_200_lr_0_01_bs_128_ls_ce_wd_0_0005_seed_1\n",
      "[Logging in lacuna10_resnet_1_0_forget_[0, 1]_num_200_lr_0_01_bs_128_ls_ce_wd_0_0005_seed_1_training]\n",
      "confuse mode: True\n",
      "split mode: forget\n",
      "[181 258  15  65 216  63 240 228 167 156  64 103 124 315 310  60 122 271\n",
      "  66  26 286 158 136 309 164 200 272   7   6 230 254  22 152  21  55 157\n",
      "  12 108  68 144 170 278  59 134 231  92 175 267  74  81 288 259 264  52\n",
      " 133 176  56  90 248  17   1   8 150 206 209 140 217 194   5  33 280  34\n",
      " 212 215 263 137  45 101 266 126 198 238 199 222 120 245 135  73 313 304\n",
      " 116 255  29  97  20  46 213 262 312  89 369 360 532 599 463 551 408 322\n",
      " 553 447 516 415 575 515 555 339 331 511 568 503 519 512 492 343 578 632\n",
      " 375 636 535 514 542 462 489 337 559 364 525 442 526 405 562 368 533 548\n",
      " 372 629 637 334 493 485 450 436 617 321 464 466 536 336 595 397 517 522\n",
      " 345 382 328 355 465 341 616 624 600 509 504 434 546 390 543 357 472 531\n",
      " 399 354 510 384 423 585 347 613 541 572 497 332 353 470 549 370 618 351\n",
      " 520 398]\n",
      "Number of Classes: 10\n",
      "[0] train metrics:{\"loss\": 0.3945189368724823, \"error\": 0.098125}\n",
      "Learning Rate : 0.01\n",
      "[0] test metrics:{\"loss\": 0.21868188786506654, \"error\": 0.07399999570846558}\n",
      "Learning Rate : 0.01\n",
      "Epoch Time: 1.37 sec\n",
      "[1] train metrics:{\"loss\": 0.1252414670586586, \"error\": 0.04}\n",
      "Learning Rate : 0.01\n",
      "Epoch Time: 1.09 sec\n",
      "[2] train metrics:{\"loss\": 0.03998582549393177, \"error\": 0.00875}\n",
      "Learning Rate : 0.01\n",
      "Epoch Time: 1.1 sec\n",
      "[3] train metrics:{\"loss\": 0.018871775325387717, \"error\": 0.003125}\n",
      "Learning Rate : 0.01\n",
      "Epoch Time: 1.1 sec\n",
      "[4] train metrics:{\"loss\": 0.007750764386728406, \"error\": 0.0}\n",
      "Learning Rate : 0.01\n",
      "Epoch Time: 1.11 sec\n",
      "[5] train metrics:{\"loss\": 0.004611239414662123, \"error\": 0.0}\n",
      "Learning Rate : 0.01\n",
      "Epoch Time: 1.21 sec\n",
      "[6] train metrics:{\"loss\": 0.0034876267984509466, \"error\": 0.0}\n",
      "Learning Rate : 0.01\n",
      "Epoch Time: 1.1 sec\n",
      "[7] train metrics:{\"loss\": 0.002967796362936497, \"error\": 0.0}\n",
      "Learning Rate : 0.01\n",
      "Epoch Time: 1.11 sec\n",
      "[8] train metrics:{\"loss\": 0.0026318002911284565, \"error\": 0.0}\n",
      "Learning Rate : 0.01\n",
      "Epoch Time: 1.12 sec\n",
      "[9] train metrics:{\"loss\": 0.0024281581770628693, \"error\": 0.0}\n",
      "Learning Rate : 0.01\n",
      "Epoch Time: 1.11 sec\n",
      "[10] train metrics:{\"loss\": 0.0022898506931960582, \"error\": 0.0}\n",
      "Learning Rate : 0.01\n",
      "Epoch Time: 1.18 sec\n",
      "[11] train metrics:{\"loss\": 0.0021680903434753416, \"error\": 0.0}\n",
      "Learning Rate : 0.01\n",
      "Epoch Time: 1.11 sec\n",
      "[12] train metrics:{\"loss\": 0.0020789767382666468, \"error\": 0.0}\n",
      "Learning Rate : 0.01\n",
      "Epoch Time: 1.1 sec\n",
      "[13] train metrics:{\"loss\": 0.002004021811299026, \"error\": 0.0}\n",
      "Learning Rate : 0.01\n",
      "Epoch Time: 0.99 sec\n",
      "[14] train metrics:{\"loss\": 0.0019420119980350136, \"error\": 0.0}\n",
      "Learning Rate : 0.01\n",
      "Epoch Time: 0.83 sec\n",
      "[15] train metrics:{\"loss\": 0.0018930625170469283, \"error\": 0.0}\n",
      "Learning Rate : 0.01\n",
      "Epoch Time: 0.91 sec\n",
      "[16] train metrics:{\"loss\": 0.0018525511119514705, \"error\": 0.0}\n",
      "Learning Rate : 0.01\n",
      "Epoch Time: 0.78 sec\n",
      "[17] train metrics:{\"loss\": 0.0018156438553705813, \"error\": 0.0}\n",
      "Learning Rate : 0.01\n",
      "Epoch Time: 0.87 sec\n",
      "[18] train metrics:{\"loss\": 0.0017831958830356598, \"error\": 0.0}\n",
      "Learning Rate : 0.01\n",
      "Epoch Time: 0.81 sec\n",
      "[19] train metrics:{\"loss\": 0.0017556374473497271, \"error\": 0.0}\n",
      "Learning Rate : 0.01\n",
      "Epoch Time: 0.89 sec\n",
      "[20] train metrics:{\"loss\": 0.00173125677742064, \"error\": 0.0}\n",
      "Learning Rate : 0.01\n",
      "Epoch Time: 0.92 sec\n",
      "[21] train metrics:{\"loss\": 0.001710162670351565, \"error\": 0.0}\n",
      "Learning Rate : 0.01\n",
      "Epoch Time: 0.82 sec\n",
      "[22] train metrics:{\"loss\": 0.001691991640254855, \"error\": 0.0}\n",
      "Learning Rate : 0.01\n",
      "Epoch Time: 0.84 sec\n",
      "[23] train metrics:{\"loss\": 0.0016751015977934003, \"error\": 0.0}\n",
      "Learning Rate : 0.01\n",
      "Epoch Time: 0.86 sec\n",
      "[24] train metrics:{\"loss\": 0.0016594806034117937, \"error\": 0.0}\n",
      "Learning Rate : 0.01\n",
      "Epoch Time: 0.85 sec\n",
      "[25] train metrics:{\"loss\": 0.0016461714264005424, \"error\": 0.0}\n",
      "Learning Rate : 0.01\n",
      "Epoch Time: 0.93 sec\n",
      "Pure training time: 25.44 sec\n"
     ]
    }
   ],
   "source": [
    "%run main.py --dataset lacuna10 --model resnet --dataroot=data/lacuna10/ --filters 1.0 --lr 0.01 \\\n",
    "--resume checkpoints/lacuna100_resnet_1_0_forget_None_lr_0_1_bs_128_ls_ce_wd_0_0005_seed_1_30.pt --disable-bn \\\n",
    "--weight-decay 0.0005 --batch-size 128 --epochs 26 --seed 1 \\\n",
    "--split forget --confuse-mode --forget-class 0,1 --num-to-forget 200"
   ]
  },
  {
   "cell_type": "markdown",
   "metadata": {},
   "source": [
    "### Logs"
   ]
  },
  {
   "cell_type": "code",
   "execution_count": 12,
   "metadata": {},
   "outputs": [],
   "source": [
    "log_dict={}\n",
    "training_epochs=25"
   ]
  },
  {
   "cell_type": "code",
   "execution_count": 13,
   "metadata": {},
   "outputs": [],
   "source": [
    "log_dict['epoch']=training_epochs"
   ]
  },
  {
   "cell_type": "code",
   "execution_count": 14,
   "metadata": {},
   "outputs": [
    {
     "name": "stdout",
     "output_type": "stream",
     "text": [
      "Total Number of Parameters: 11175178\n"
     ]
    }
   ],
   "source": [
    "parameter_count(copy.deepcopy(model))"
   ]
  },
  {
   "cell_type": "markdown",
   "metadata": {},
   "source": [
    "### Loads checkpoints"
   ]
  },
  {
   "cell_type": "code",
   "execution_count": 15,
   "metadata": {},
   "outputs": [],
   "source": [
    "import copy\n",
    "model0 = copy.deepcopy(model)\n",
    "model_initial = copy.deepcopy(model)\n",
    "\n",
    "arch = args.model \n",
    "filters=args.filters\n",
    "arch_filters = arch +'_'+ str(filters).replace('.','_')\n",
    "augment = False\n",
    "dataset = args.dataset\n",
    "class_to_forget = args.forget_class\n",
    "init_checkpoint = f\"checkpoints/{args.name}_init.pt\"\n",
    "num_classes=args.num_classes\n",
    "num_to_forget = args.num_to_forget\n",
    "num_total = len(train_loader.dataset)\n",
    "num_to_retain = num_total - num_to_forget\n",
    "seed = args.seed\n",
    "unfreeze_start = None\n",
    "\n",
    "learningrate=f\"lr_{str(args.lr).replace('.','_')}\"\n",
    "batch_size=f\"_bs_{str(args.batch_size)}\"\n",
    "lossfn=f\"_ls_{args.lossfn}\"\n",
    "wd=f\"_wd_{str(args.weight_decay).replace('.','_')}\"\n",
    "seed_name=f\"_seed_{args.seed}_\"\n",
    "\n",
    "num_tag = '' if num_to_forget is None else f'_num_{num_to_forget}'\n",
    "unfreeze_tag = '_' if unfreeze_start is None else f'_unfreeze_from_{unfreeze_start}_'\n",
    "augment_tag = '' if not augment else f'augment_'\n",
    "\n",
    "m_name = f'checkpoints/{dataset}_{arch_filters}_forget_None{unfreeze_tag}{augment_tag}{learningrate}{batch_size}{lossfn}{wd}{seed_name}{training_epochs}.pt'\n",
    "m0_name = f'checkpoints/{dataset}_{arch_filters}_forget_{class_to_forget}{num_tag}{unfreeze_tag}{augment_tag}{learningrate}{batch_size}{lossfn}{wd}{seed_name}{training_epochs}.pt'\n",
    "\n",
    "model.load_state_dict(torch.load(m_name))\n",
    "model0.load_state_dict(torch.load(m0_name))\n",
    "model_initial.load_state_dict(torch.load(init_checkpoint))\n",
    "\n",
    "teacher = copy.deepcopy(model)\n",
    "student = copy.deepcopy(model)\n",
    "\n",
    "model.cuda()\n",
    "model0.cuda()\n",
    "\n",
    "\n",
    "for p in model.parameters():\n",
    "    p.data0 = p.data.clone()\n",
    "for p in model0.parameters():\n",
    "    p.data0 = p.data.clone()"
   ]
  },
  {
   "cell_type": "code",
   "execution_count": 16,
   "metadata": {},
   "outputs": [],
   "source": [
    "log_dict['args']=args"
   ]
  },
  {
   "cell_type": "code",
   "execution_count": 17,
   "metadata": {},
   "outputs": [],
   "source": [
    "model_init = ntk_init(init_checkpoint,args.seed)\n",
    "for p in model_init.parameters():\n",
    "    p.data0 = p.data.clone()"
   ]
  },
  {
   "cell_type": "code",
   "execution_count": 18,
   "metadata": {
    "scrolled": true
   },
   "outputs": [
    {
     "name": "stdout",
     "output_type": "stream",
     "text": [
      "Distance: 3.112095905916224\n",
      "Normalized Distance: 0.03129505126715685\n"
     ]
    }
   ],
   "source": [
    "log_dict['dist_Original_Original_init']= distance(model_init,model)"
   ]
  },
  {
   "cell_type": "markdown",
   "metadata": {},
   "source": [
    "### Data Loader"
   ]
  },
  {
   "cell_type": "code",
   "execution_count": 19,
   "metadata": {},
   "outputs": [],
   "source": [
    "args.retain_bs = 32\n",
    "args.forget_bs = 32"
   ]
  },
  {
   "cell_type": "code",
   "execution_count": 20,
   "metadata": {},
   "outputs": [
    {
     "name": "stdout",
     "output_type": "stream",
     "text": [
      "confuse mode: True\n",
      "split mode: train\n",
      "[181 258  15  65 216  63 240 228 167 156  64 103 124 315 310  60 122 271\n",
      "  66  26 286 158 136 309 164 200 272   7   6 230 254  22 152  21  55 157\n",
      "  12 108  68 144 170 278  59 134 231  92 175 267  74  81 288 259 264  52\n",
      " 133 176  56  90 248  17   1   8 150 206 209 140 217 194   5  33 280  34\n",
      " 212 215 263 137  45 101 266 126 198 238 199 222 120 245 135  73 313 304\n",
      " 116 255  29  97  20  46 213 262 312  89 369 360 532 599 463 551 408 322\n",
      " 553 447 516 415 575 515 555 339 331 511 568 503 519 512 492 343 578 632\n",
      " 375 636 535 514 542 462 489 337 559 364 525 442 526 405 562 368 533 548\n",
      " 372 629 637 334 493 485 450 436 617 321 464 466 536 336 595 397 517 522\n",
      " 345 382 328 355 465 341 616 624 600 509 504 434 546 390 543 357 472 531\n",
      " 399 354 510 384 423 585 347 613 541 572 497 332 353 470 549 370 618 351\n",
      " 520 398]\n",
      "confuse mode: True\n",
      "split mode: forget\n",
      "[181 258  15  65 216  63 240 228 167 156  64 103 124 315 310  60 122 271\n",
      "  66  26 286 158 136 309 164 200 272   7   6 230 254  22 152  21  55 157\n",
      "  12 108  68 144 170 278  59 134 231  92 175 267  74  81 288 259 264  52\n",
      " 133 176  56  90 248  17   1   8 150 206 209 140 217 194   5  33 280  34\n",
      " 212 215 263 137  45 101 266 126 198 238 199 222 120 245 135  73 313 304\n",
      " 116 255  29  97  20  46 213 262 312  89 369 360 532 599 463 551 408 322\n",
      " 553 447 516 415 575 515 555 339 331 511 568 503 519 512 492 343 578 632\n",
      " 375 636 535 514 542 462 489 337 559 364 525 442 526 405 562 368 533 548\n",
      " 372 629 637 334 493 485 450 436 617 321 464 466 536 336 595 397 517 522\n",
      " 345 382 328 355 465 341 616 624 600 509 504 434 546 390 543 357 472 531\n",
      " 399 354 510 384 423 585 347 613 541 572 497 332 353 470 549 370 618 351\n",
      " 520 398]\n"
     ]
    }
   ],
   "source": [
    "train_loader_full, valid_loader_full, test_loader_full = datasets.get_loaders(dataset, split=\"train\",confuse_mode=True,class_to_replace=class_to_forget, num_indexes_to_replace=num_to_forget, batch_size=args.batch_size, seed=seed, root=args.dataroot, augment=False, shuffle=True)\n",
    "marked_loader, _, _ = datasets.get_loaders(dataset, split=\"forget\", confuse_mode=True,class_to_replace=class_to_forget, num_indexes_to_replace=num_to_forget, only_mark=True, batch_size=1, seed=seed, root=args.dataroot, augment=False, shuffle=True)\n",
    "\n",
    "def replace_loader_dataset(data_loader, dataset, batch_size=args.batch_size, seed=1, shuffle=True):\n",
    "    manual_seed(seed)\n",
    "    loader_args = {'num_workers': 0, 'pin_memory': False}\n",
    "    def _init_fn(worker_id):\n",
    "        np.random.seed(int(seed))\n",
    "    return torch.utils.data.DataLoader(dataset, batch_size=batch_size,num_workers=0,pin_memory=True,shuffle=shuffle)\n",
    "    \n",
    "forget_dataset = copy.deepcopy(marked_loader.dataset)\n",
    "marked = forget_dataset.targets < 0\n",
    "forget_dataset.data = forget_dataset.data[marked]\n",
    "forget_dataset.targets = - forget_dataset.targets[marked] - 1\n",
    "forget_loader = replace_loader_dataset(train_loader_full, forget_dataset, batch_size=args.forget_bs, seed=seed, shuffle=True)\n",
    "\n",
    "retain_dataset = copy.deepcopy(marked_loader.dataset)\n",
    "marked = retain_dataset.targets >= 0\n",
    "retain_dataset.data = retain_dataset.data[marked]\n",
    "retain_dataset.targets = retain_dataset.targets[marked]\n",
    "retain_loader = replace_loader_dataset(train_loader_full, retain_dataset, batch_size=args.retain_bs, seed=seed, shuffle=True)\n",
    "\n",
    "assert(len(forget_dataset) + len(retain_dataset) == len(train_loader_full.dataset))"
   ]
  },
  {
   "cell_type": "code",
   "execution_count": 21,
   "metadata": {},
   "outputs": [
    {
     "name": "stdout",
     "output_type": "stream",
     "text": [
      "200\n",
      "3000\n",
      "1000\n",
      "3200\n",
      "{0: 320, 1: 320, 2: 320, 3: 320, 4: 320, 5: 320, 6: 320, 7: 320, 8: 320, 9: 320}\n"
     ]
    }
   ],
   "source": [
    "print (len(forget_loader.dataset))\n",
    "print (len(retain_loader.dataset))\n",
    "print (len(test_loader_full.dataset))\n",
    "print (len(train_loader_full.dataset))\n",
    "from collections import Counter\n",
    "print(dict(Counter(train_loader_full.dataset.targets)))"
   ]
  },
  {
   "cell_type": "markdown",
   "metadata": {},
   "source": [
    "# SGDA Forgetting"
   ]
  },
  {
   "cell_type": "code",
   "execution_count": 22,
   "metadata": {},
   "outputs": [],
   "source": [
    "args.optim = 'sgd'\n",
    "args.gamma = 1\n",
    "args.alpha = 0.01\n",
    "args.beta = 0\n",
    "args.smoothing = 0.5\n",
    "args.msteps = 2\n",
    "args.clip = 0.5\n",
    "args.sstart = 10\n",
    "args.kd_T = 2\n",
    "args.distill = 'kd'\n",
    "\n",
    "args.sgda_epochs = 10\n",
    "args.sgda_learning_rate = 0.0005\n",
    "args.lr_decay_epochs = [7,10,10]\n",
    "args.lr_decay_rate = 0.1\n",
    "args.sgda_weight_decay = 5e-4\n",
    "args.sgda_momentum = 0.9"
   ]
  },
  {
   "cell_type": "code",
   "execution_count": 23,
   "metadata": {},
   "outputs": [],
   "source": [
    "model_t = copy.deepcopy(teacher)\n",
    "model_s = copy.deepcopy(student)\n",
    "#model_s = models.get_model(arch, num_classes=num_classes, filters_percentage=filters).to(args.device)"
   ]
  },
  {
   "cell_type": "code",
   "execution_count": 24,
   "metadata": {},
   "outputs": [],
   "source": [
    "#this is from https://github.com/ojus1/SmoothedGradientDescentAscent/blob/main/SGDA.py\n",
    "#For SGDA smoothing\n",
    "beta = 0.1\n",
    "def avg_fn(averaged_model_parameter, model_parameter, num_averaged): return (\n",
    "    1 - beta) * averaged_model_parameter + beta * model_parameter\n",
    "swa_model = torch.optim.swa_utils.AveragedModel(\n",
    "    model_s, avg_fn=avg_fn)"
   ]
  },
  {
   "cell_type": "code",
   "execution_count": 25,
   "metadata": {},
   "outputs": [],
   "source": [
    "module_list = nn.ModuleList([])\n",
    "module_list.append(model_s)\n",
    "trainable_list = nn.ModuleList([])\n",
    "trainable_list.append(model_s)\n",
    "\n",
    "criterion_cls = nn.CrossEntropyLoss()\n",
    "criterion_div = DistillKL(args.kd_T)\n",
    "criterion_kd = DistillKL(args.kd_T)\n",
    "\n",
    "\n",
    "criterion_list = nn.ModuleList([])\n",
    "criterion_list.append(criterion_cls)    # classification loss\n",
    "criterion_list.append(criterion_div)    # KL divergence loss, original knowledge distillation\n",
    "criterion_list.append(criterion_kd)     # other knowledge distillation loss\n",
    "\n",
    "# optimizer\n",
    "if args.optim == \"sgd\":\n",
    "    optimizer = optim.SGD(trainable_list.parameters(),\n",
    "                          lr=args.sgda_learning_rate,\n",
    "                          momentum=args.sgda_momentum,\n",
    "                          weight_decay=args.sgda_weight_decay)\n",
    "elif args.optim == \"adam\": \n",
    "    optimizer = optim.Adam(trainable_list.parameters(),\n",
    "                          lr=args.sgda_learning_rate,\n",
    "                          weight_decay=args.sgda_weight_decay)\n",
    "elif args.optim == \"rmsp\":\n",
    "    optimizer = optim.RMSprop(trainable_list.parameters(),\n",
    "                          lr=args.sgda_learning_rate,\n",
    "                          momentum=args.sgda_momentum,\n",
    "                          weight_decay=args.sgda_weight_decay)"
   ]
  },
  {
   "cell_type": "code",
   "execution_count": 26,
   "metadata": {},
   "outputs": [],
   "source": [
    "module_list.append(model_t)\n",
    "\n",
    "if torch.cuda.is_available():\n",
    "    module_list.cuda()\n",
    "    criterion_list.cuda()\n",
    "    import torch.backends.cudnn as cudnn\n",
    "    cudnn.benchmark = True\n",
    "    swa_model.cuda()"
   ]
  },
  {
   "cell_type": "code",
   "execution_count": 27,
   "metadata": {},
   "outputs": [
    {
     "name": "stdout",
     "output_type": "stream",
     "text": [
      "==> SCRUB unlearning ...\n"
     ]
    },
    {
     "name": "stderr",
     "output_type": "stream",
     "text": [
      "/home/zihao/anaconda3/envs/zihao/lib/python3.10/site-packages/torch/nn/_reduction.py:42: UserWarning: size_average and reduce args will be deprecated, please use reduction='sum' instead.\n",
      "  warnings.warn(warning.format(ret))\n"
     ]
    },
    {
     "name": "stdout",
     "output_type": "stream",
     "text": [
      " * Acc@1 99.167 \n",
      "maximize loss: -3.45\t minimize loss: 0.26\t train_acc: 99.16666412353516\n",
      "==> SCRUB unlearning ...\n"
     ]
    },
    {
     "name": "stderr",
     "output_type": "stream",
     "text": [
      "/home/zihao/anaconda3/envs/zihao/lib/python3.10/site-packages/torch/nn/_reduction.py:42: UserWarning: size_average and reduce args will be deprecated, please use reduction='sum' instead.\n",
      "  warnings.warn(warning.format(ret))\n"
     ]
    },
    {
     "name": "stdout",
     "output_type": "stream",
     "text": [
      " * Acc@1 98.967 \n",
      "maximize loss: -4.38\t minimize loss: 0.34\t train_acc: 98.96666717529297\n",
      "==> SCRUB unlearning ...\n"
     ]
    },
    {
     "name": "stderr",
     "output_type": "stream",
     "text": [
      "/home/zihao/anaconda3/envs/zihao/lib/python3.10/site-packages/torch/nn/_reduction.py:42: UserWarning: size_average and reduce args will be deprecated, please use reduction='sum' instead.\n",
      "  warnings.warn(warning.format(ret))\n"
     ]
    },
    {
     "name": "stdout",
     "output_type": "stream",
     "text": [
      " * Acc@1 98.300 \n",
      "maximize loss: 0.00\t minimize loss: 0.16\t train_acc: 98.29999542236328\n",
      "==> SCRUB unlearning ...\n"
     ]
    },
    {
     "name": "stderr",
     "output_type": "stream",
     "text": [
      "/home/zihao/anaconda3/envs/zihao/lib/python3.10/site-packages/torch/nn/_reduction.py:42: UserWarning: size_average and reduce args will be deprecated, please use reduction='sum' instead.\n",
      "  warnings.warn(warning.format(ret))\n"
     ]
    },
    {
     "name": "stdout",
     "output_type": "stream",
     "text": [
      " * Acc@1 97.967 \n",
      "maximize loss: 0.00\t minimize loss: 0.12\t train_acc: 97.96666717529297\n",
      "==> SCRUB unlearning ...\n"
     ]
    },
    {
     "name": "stderr",
     "output_type": "stream",
     "text": [
      "/home/zihao/anaconda3/envs/zihao/lib/python3.10/site-packages/torch/nn/_reduction.py:42: UserWarning: size_average and reduce args will be deprecated, please use reduction='sum' instead.\n",
      "  warnings.warn(warning.format(ret))\n"
     ]
    },
    {
     "name": "stdout",
     "output_type": "stream",
     "text": [
      " * Acc@1 97.700 \n",
      "maximize loss: 0.00\t minimize loss: 0.13\t train_acc: 97.69999694824219\n",
      "==> SCRUB unlearning ...\n"
     ]
    },
    {
     "name": "stderr",
     "output_type": "stream",
     "text": [
      "/home/zihao/anaconda3/envs/zihao/lib/python3.10/site-packages/torch/nn/_reduction.py:42: UserWarning: size_average and reduce args will be deprecated, please use reduction='sum' instead.\n",
      "  warnings.warn(warning.format(ret))\n"
     ]
    },
    {
     "name": "stdout",
     "output_type": "stream",
     "text": [
      " * Acc@1 97.967 \n",
      "maximize loss: 0.00\t minimize loss: 0.13\t train_acc: 97.96666717529297\n",
      "==> SCRUB unlearning ...\n"
     ]
    },
    {
     "name": "stderr",
     "output_type": "stream",
     "text": [
      "/home/zihao/anaconda3/envs/zihao/lib/python3.10/site-packages/torch/nn/_reduction.py:42: UserWarning: size_average and reduce args will be deprecated, please use reduction='sum' instead.\n",
      "  warnings.warn(warning.format(ret))\n"
     ]
    },
    {
     "name": "stdout",
     "output_type": "stream",
     "text": [
      " * Acc@1 97.767 \n",
      "maximize loss: 0.00\t minimize loss: 0.12\t train_acc: 97.76666259765625\n",
      "==> SCRUB unlearning ...\n"
     ]
    },
    {
     "name": "stderr",
     "output_type": "stream",
     "text": [
      "/home/zihao/anaconda3/envs/zihao/lib/python3.10/site-packages/torch/nn/_reduction.py:42: UserWarning: size_average and reduce args will be deprecated, please use reduction='sum' instead.\n",
      "  warnings.warn(warning.format(ret))\n"
     ]
    },
    {
     "name": "stdout",
     "output_type": "stream",
     "text": [
      " * Acc@1 97.400 \n",
      "maximize loss: 0.00\t minimize loss: 0.12\t train_acc: 97.4000015258789\n",
      "==> SCRUB unlearning ...\n"
     ]
    },
    {
     "name": "stderr",
     "output_type": "stream",
     "text": [
      "/home/zihao/anaconda3/envs/zihao/lib/python3.10/site-packages/torch/nn/_reduction.py:42: UserWarning: size_average and reduce args will be deprecated, please use reduction='sum' instead.\n",
      "  warnings.warn(warning.format(ret))\n"
     ]
    },
    {
     "name": "stdout",
     "output_type": "stream",
     "text": [
      " * Acc@1 97.533 \n",
      "maximize loss: 0.00\t minimize loss: 0.12\t train_acc: 97.53333282470703\n",
      "==> SCRUB unlearning ...\n"
     ]
    },
    {
     "name": "stderr",
     "output_type": "stream",
     "text": [
      "/home/zihao/anaconda3/envs/zihao/lib/python3.10/site-packages/torch/nn/_reduction.py:42: UserWarning: size_average and reduce args will be deprecated, please use reduction='sum' instead.\n",
      "  warnings.warn(warning.format(ret))\n"
     ]
    },
    {
     "name": "stdout",
     "output_type": "stream",
     "text": [
      " * Acc@1 97.367 \n",
      "maximize loss: 0.00\t minimize loss: 0.12\t train_acc: 97.36666870117188\n"
     ]
    }
   ],
   "source": [
    "t1 = time.time()\n",
    "acc_rs = []\n",
    "acc_fs = []\n",
    "acc_vs = []\n",
    "ic_rs = []\n",
    "ic_vs = []\n",
    "fgt_rs = []\n",
    "fgt_vs = []\n",
    "for epoch in range(1, args.sgda_epochs + 1):\n",
    "\n",
    "    lr = sgda_adjust_learning_rate(epoch, args, optimizer)\n",
    "    print(\"==> SCRUB unlearning ...\")\n",
    "    ic_r, fgt_r = interclass_confusion(model_s, retain_loader, class_to_forget, \"SCRUB\")\n",
    "    ic_v, fgt_v = interclass_confusion(model_s, valid_loader_full, class_to_forget, \"SCRUB\")\n",
    "    ic_rs.append(ic_r)\n",
    "    ic_vs.append(ic_v)\n",
    "    fgt_rs.append(fgt_r)\n",
    "    fgt_vs.append(fgt_v)\n",
    "\n",
    "    acc_r, acc5_r, loss_r = validate(retain_loader, model_s, criterion_cls, args, True)\n",
    "    acc_f, acc5_f, loss_f = validate(forget_loader, model_s, criterion_cls, args, True)\n",
    "    acc_v, acc5_v, loss_v = validate(valid_loader_full, model_s, criterion_cls, args, True)\n",
    "    acc_rs.append(100-acc_r.item())\n",
    "    acc_fs.append(100-acc_f.item())\n",
    "    acc_vs.append(100-acc_v.item())\n",
    "\n",
    "\n",
    "    maximize_loss = 0\n",
    "    if epoch <= args.msteps:\n",
    "        maximize_loss = train_distill(epoch, forget_loader, module_list, swa_model, criterion_list, optimizer, args, \"maximize\")\n",
    "    train_acc, train_loss = train_distill(epoch, retain_loader, module_list, swa_model, criterion_list, optimizer, args, \"minimize\",)\n",
    "    if epoch >= args.sstart:\n",
    "        swa_model.update_parameters(model_s)\n",
    "\n",
    "    \n",
    "    print (\"maximize loss: {:.2f}\\t minimize loss: {:.2f}\\t train_acc: {}\".format(maximize_loss, train_loss, train_acc))\n",
    "ic_r, fgt_r = interclass_confusion(model_s, retain_loader, class_to_forget, \"SCRUB\")\n",
    "ic_v, fgt_v = interclass_confusion(model_s, valid_loader_full, class_to_forget, \"SCRUB\")\n",
    "ic_rs.append(ic_r)\n",
    "ic_vs.append(ic_v)\n",
    "fgt_rs.append(fgt_r)\n",
    "fgt_vs.append(fgt_v)\n",
    "acc_r, acc5_r, loss_r = validate(retain_loader, model_s, criterion_cls, args, True)\n",
    "acc_f, acc5_f, loss_f = validate(forget_loader, model_s, criterion_cls, args, True)\n",
    "acc_tv, acc5_v, loss_v = validate(valid_loader_full, model_s, criterion_cls, args, True)\n",
    "acc_rs.append(100-acc_r.item())\n",
    "acc_fs.append(100-acc_f.item())\n",
    "acc_vs.append(100-acc_v.item())\n"
   ]
  },
  {
   "cell_type": "code",
   "execution_count": 28,
   "metadata": {},
   "outputs": [
    {
     "name": "stderr",
     "output_type": "stream",
     "text": [
      "/tmp/ipykernel_394973/2812292199.py:16: UserWarning: FigureCanvasAgg is non-interactive, and thus cannot be shown\n",
      "  fig.show()\n"
     ]
    },
    {
     "data": {
      "image/png": "[encoded data removed]",
      "text/plain": [
       "<Figure size 900x1500 with 3 Axes>"
      ]
     },
     "metadata": {},
     "output_type": "display_data"
    }
   ],
   "source": [
    "from matplotlib import pyplot as plt\n",
    "fig, ax = plt.subplots(3,1,figsize=(9,15))\n",
    "indices = list(range(0,len(ic_rs)))\n",
    "ax[0].plot(indices, ic_rs, marker='*', color='red', alpha=1, label='ic-retain')\n",
    "ax[0].plot(indices, ic_vs, marker='o', color='blue', alpha=1, label='ic-val')\n",
    "ax[1].plot(indices, acc_rs, marker='*', color='green', alpha=1, label='acc-retain')\n",
    "ax[1].plot(indices, acc_vs, marker='o', color='brown', alpha=1, label='acc-valid')\n",
    "ax[2].plot(indices, acc_fs, marker='^', color='black', alpha=1, label='acc-forget')\n",
    "ax[0].legend(prop={'size': 14})\n",
    "ax[1].legend(prop={'size': 14})\n",
    "plt.tick_params(labelsize=12)\n",
    "ax[0].set_xlabel('epoch',size=14)\n",
    "ax[0].set_ylabel('error',size=14)\n",
    "ax[1].set_xlabel('epoch',size=14)\n",
    "ax[1].set_ylabel('error',size=14)\n",
    "fig.show()"
   ]
  },
  {
   "cell_type": "code",
   "execution_count": 29,
   "metadata": {},
   "outputs": [
    {
     "name": "stdout",
     "output_type": "stream",
     "text": [
      "[0.10454545454545454, 0.03636363636363636, 0.03409090909090909, 0.04090909090909091, 0.04090909090909091, 0.04318181818181818, 0.04318181818181818, 0.04772727272727273, 0.04318181818181818, 0.04318181818181818, 0.04318181818181818]\n",
      "[0.29375, 0.19375, 0.1875, 0.1875, 0.19375, 0.2, 0.2, 0.21875, 0.19375, 0.20625, 0.20625]\n",
      "[1.5333328247070312, 0.6666641235351562, 0.5333328247070312, 1.0, 1.0666656494140625, 1.2000045776367188, 1.2666702270507812, 1.0333328247070312, 1.4000015258789062, 1.4000015258789062, 1.366668701171875]\n",
      "[8.625, 7.125, 6.5, 7.375, 8.125, 8.125, 8.25, 8.0, 8.75, 8.75, 8.75]\n",
      "[14.0, 27.5, 28.0, 26.0, 25.5, 26.0, 25.5, 24.5, 26.0, 26.0, 26.0]\n"
     ]
    }
   ],
   "source": [
    "print(ic_rs)\n",
    "print(ic_vs)\n",
    "print(acc_rs)\n",
    "print(acc_vs)\n",
    "print(acc_fs)\n",
    "\n",
    "\n"
   ]
  },
  {
   "cell_type": "markdown",
   "metadata": {},
   "source": [
    "## Finetune"
   ]
  },
  {
   "cell_type": "code",
   "execution_count": 30,
   "metadata": {},
   "outputs": [
    {
     "name": "stderr",
     "output_type": "stream",
     "text": [
      "                                               \r"
     ]
    }
   ],
   "source": [
    "model_ft = copy.deepcopy(model)\n",
    "args.ft_bs = 64\n",
    "retain_loader = replace_loader_dataset(train_loader_full,retain_dataset, seed=seed, batch_size=args.ft_bs, shuffle=True)  \n",
    "finetune(model_ft, retain_loader, epochs=10, quiet=True, lr=0.01)"
   ]
  },
  {
   "cell_type": "markdown",
   "metadata": {},
   "source": [
    "## Negative Gradient"
   ]
  },
  {
   "cell_type": "code",
   "execution_count": 31,
   "metadata": {},
   "outputs": [
    {
     "name": "stdout",
     "output_type": "stream",
     "text": [
      "Epoch: [0][0/24]\tTime 0.044 (0.044)\tData 0.018 (0.018)\tLoss 0.0686 (0.0686)\tAcc@1 99.219 (99.219)\tAcc@5 100.000 (100.000)\n",
      " * Acc@1 99.167 Acc@5 100.000\n",
      "Epoch: [1][0/24]\tTime 0.043 (0.043)\tData 0.017 (0.017)\tLoss 0.0776 (0.0776)\tAcc@1 99.219 (99.219)\tAcc@5 100.000 (100.000)\n",
      " * Acc@1 99.633 Acc@5 100.000\n",
      "Epoch: [2][0/24]\tTime 0.185 (0.185)\tData 0.051 (0.051)\tLoss 0.0386 (0.0386)\tAcc@1 99.219 (99.219)\tAcc@5 100.000 (100.000)\n",
      " * Acc@1 99.700 Acc@5 100.000\n",
      "Epoch: [3][0/24]\tTime 0.038 (0.038)\tData 0.017 (0.017)\tLoss 0.0430 (0.0430)\tAcc@1 100.000 (100.000)\tAcc@5 100.000 (100.000)\n",
      " * Acc@1 99.867 Acc@5 100.000\n",
      "Epoch: [4][0/24]\tTime 0.031 (0.031)\tData 0.015 (0.015)\tLoss 0.0460 (0.0460)\tAcc@1 100.000 (100.000)\tAcc@5 100.000 (100.000)\n",
      " * Acc@1 99.900 Acc@5 100.000\n",
      "Epoch: [5][0/24]\tTime 0.032 (0.032)\tData 0.015 (0.015)\tLoss 0.0266 (0.0266)\tAcc@1 100.000 (100.000)\tAcc@5 100.000 (100.000)\n",
      " * Acc@1 99.867 Acc@5 100.000\n",
      "Epoch: [6][0/24]\tTime 0.161 (0.161)\tData 0.068 (0.068)\tLoss 0.0195 (0.0195)\tAcc@1 100.000 (100.000)\tAcc@5 100.000 (100.000)\n",
      " * Acc@1 99.900 Acc@5 100.000\n",
      "Epoch: [7][0/24]\tTime 0.039 (0.039)\tData 0.025 (0.025)\tLoss 0.0374 (0.0374)\tAcc@1 98.438 (98.438)\tAcc@5 100.000 (100.000)\n",
      " * Acc@1 99.900 Acc@5 100.000\n",
      "Epoch: [8][0/24]\tTime 0.060 (0.060)\tData 0.013 (0.013)\tLoss 0.0192 (0.0192)\tAcc@1 100.000 (100.000)\tAcc@5 100.000 (100.000)\n",
      " * Acc@1 99.967 Acc@5 100.000\n",
      "Epoch: [9][0/24]\tTime 0.028 (0.028)\tData 0.011 (0.011)\tLoss 0.0165 (0.0165)\tAcc@1 100.000 (100.000)\tAcc@5 100.000 (100.000)\n",
      " * Acc@1 99.933 Acc@5 100.000\n"
     ]
    }
   ],
   "source": [
    "args.ng_alpha = 0.9999\n",
    "args.ng_epochs = 10\n",
    "args.ng_lr = 0.01\n",
    "model_ng = copy.deepcopy(model)\n",
    "args.ng_bs = 128\n",
    "retain_loader = replace_loader_dataset(train_loader_full,retain_dataset, seed=seed, batch_size=args.ng_bs, shuffle=True)\n",
    "negative_grad(model_ng, retain_loader, forget_loader, alpha=args.ng_alpha, epochs=args.ng_epochs, quiet=True, lr=args.ng_lr, args=args)"
   ]
  },
  {
   "cell_type": "markdown",
   "metadata": {},
   "source": [
    "## Catastrophic Forgetting k layers"
   ]
  },
  {
   "cell_type": "code",
   "execution_count": 32,
   "metadata": {},
   "outputs": [
    {
     "name": "stderr",
     "output_type": "stream",
     "text": [
      "                                               \r"
     ]
    }
   ],
   "source": [
    "args.lr_decay_epochs = [10,15,20]\n",
    "args.cfk_lr = 0.01\n",
    "args.cfk_epochs = 10\n",
    "args.cfk_bs = 128\n",
    "retain_loader = replace_loader_dataset(train_loader_full,retain_dataset, seed=seed, batch_size=args.cfk_bs, shuffle=True)\n",
    "\n",
    "model_cfk = copy.deepcopy(model)\n",
    "\n",
    "for param in model_cfk.parameters():\n",
    "    param.requires_grad_(False)\n",
    "\n",
    "if args.model == 'allcnn':\n",
    "    layers = [9]\n",
    "    for k in layers:\n",
    "        for param in model_cfk.features[k].parameters():\n",
    "            param.requires_grad_(True)\n",
    "    \n",
    "elif args.model == \"resnet\":\n",
    "    for param in model_cfk.layer4.parameters():\n",
    "        param.requires_grad_(True)\n",
    "\n",
    "else:\n",
    "    raise NotImplementedError\n",
    "\n",
    "\n",
    "\n",
    "fk_fientune(model_cfk, retain_loader, args=args, epochs=args.cfk_epochs, quiet=True, lr=args.cfk_lr)\n",
    "cfk_time = t2-t1"
   ]
  },
  {
   "cell_type": "markdown",
   "metadata": {},
   "source": [
    "## Exact Unlearning k layers"
   ]
  },
  {
   "cell_type": "code",
   "execution_count": 33,
   "metadata": {},
   "outputs": [
    {
     "name": "stderr",
     "output_type": "stream",
     "text": [
      "                                               \r"
     ]
    }
   ],
   "source": [
    "args.lr_decay_epochs = [10,15,20]\n",
    "args.euk_lr = 0.01\n",
    "args.euk_epochs = training_epochs\n",
    "args.euk_bs = 64\n",
    "retain_loader = replace_loader_dataset(train_loader_full,retain_dataset, seed=seed, batch_size=args.euk_bs, shuffle=True)\n",
    "model_euk = copy.deepcopy(model)\n",
    "\n",
    "for param in model_euk.parameters():\n",
    "    param.requires_grad_(False)\n",
    "\n",
    "if args.model == 'allcnn':\n",
    "    with torch.no_grad():\n",
    "        for k in layers:\n",
    "            for i in range(0,3):\n",
    "                try:\n",
    "                    model_euk.features[k][i].weight.copy_(model_initial.features[k][i].weight)\n",
    "                except:\n",
    "                    print (\"block {}, layer {} does not have weights\".format(k,i))\n",
    "                try:\n",
    "                    model_euk.features[k][i].bias.copy_(model_initial.features[k][i].bias)\n",
    "                except:\n",
    "                    print (\"block {}, layer {} does not have bias\".format(k,i))\n",
    "        model_euk.classifier[0].weight.copy_(model_initial.classifier[0].weight)\n",
    "        model_euk.classifier[0].bias.copy_(model_initial.classifier[0].bias)\n",
    "    \n",
    "    for k in layers:\n",
    "        for param in model_euk.features[k].parameters():\n",
    "            param.requires_grad_(True)\n",
    "    \n",
    "elif args.model == \"resnet\":\n",
    "    with torch.no_grad():\n",
    "        for i in range(0,2):\n",
    "            try:\n",
    "                model_euk.layer4[i].bn1.weight.copy_(model_initial.layer4[i].bn1.weight)\n",
    "            except:\n",
    "                print (\"block 4, layer {} does not have weight\".format(i))\n",
    "            try:\n",
    "                model_euk.layer4[i].bn1.bias.copy_(model_initial.layer4[i].bn1.bias)\n",
    "            except:\n",
    "                print (\"block 4, layer {} does not have bias\".format(i))\n",
    "            try:\n",
    "                model_euk.layer4[i].conv1.weight.copy_(model_initial.layer4[i].conv1.weight)\n",
    "            except:\n",
    "                print (\"block 4, layer {} does not have weight\".format(i))\n",
    "            try:\n",
    "                model_euk.layer4[i].conv1.bias.copy_(model_initial.layer4[i].conv1.bias)\n",
    "            except:\n",
    "                print (\"block 4, layer {} does not have bias\".format(i))\n",
    "\n",
    "            try:\n",
    "                model_euk.layer4[i].bn2.weight.copy_(model_initial.layer4[i].bn2.weight)\n",
    "            except:\n",
    "                print (\"block 4, layer {} does not have weight\".format(i))\n",
    "            try:\n",
    "                model_euk.layer4[i].bn2.bias.copy_(model_initial.layer4[i].bn2.bias)\n",
    "            except:\n",
    "                print (\"block 4, layer {} does not have bias\".format(i))\n",
    "            try:\n",
    "                model_euk.layer4[i].conv2.weight.copy_(model_initial.layer4[i].conv2.weight)\n",
    "            except:\n",
    "                print (\"block 4, layer {} does not have weight\".format(i))\n",
    "            try:\n",
    "                model_euk.layer4[i].conv2.bias.copy_(model_initial.layer4[i].conv2.bias)\n",
    "            except:\n",
    "                print (\"block 4, layer {} does not have bias\".format(i))\n",
    "\n",
    "        model_euk.layer4[0].shortcut[0].weight.copy_(model_initial.layer4[0].shortcut[0].weight)\n",
    "        \n",
    "    for param in model_euk.layer4.parameters():\n",
    "        param.requires_grad_(True)\n",
    "\n",
    "else:\n",
    "    raise NotImplementedError\n",
    "\n",
    "fk_fientune(model_euk, retain_loader, epochs=args.euk_epochs, quiet=True, lr=args.euk_lr, args=args)\n",
    "euk_time = t2-t1"
   ]
  },
  {
   "cell_type": "markdown",
   "metadata": {},
   "source": [
    "## Readouts"
   ]
  },
  {
   "cell_type": "code",
   "execution_count": 34,
   "metadata": {},
   "outputs": [
    {
     "name": "stdout",
     "output_type": "stream",
     "text": [
      "confuse mode: True\n",
      "split mode: train\n",
      "[181 258  15  65 216  63 240 228 167 156  64 103 124 315 310  60 122 271\n",
      "  66  26 286 158 136 309 164 200 272   7   6 230 254  22 152  21  55 157\n",
      "  12 108  68 144 170 278  59 134 231  92 175 267  74  81 288 259 264  52\n",
      " 133 176  56  90 248  17   1   8 150 206 209 140 217 194   5  33 280  34\n",
      " 212 215 263 137  45 101 266 126 198 238 199 222 120 245 135  73 313 304\n",
      " 116 255  29  97  20  46 213 262 312  89 369 360 532 599 463 551 408 322\n",
      " 553 447 516 415 575 515 555 339 331 511 568 503 519 512 492 343 578 632\n",
      " 375 636 535 514 542 462 489 337 559 364 525 442 526 405 562 368 533 548\n",
      " 372 629 637 334 493 485 450 436 617 321 464 466 536 336 595 397 517 522\n",
      " 345 382 328 355 465 341 616 624 600 509 504 434 546 390 543 357 472 531\n",
      " 399 354 510 384 423 585 347 613 541 572 497 332 353 470 549 370 618 351\n",
      " 520 398]\n",
      "confuse mode: True\n",
      "split mode: forget\n",
      "[181 258  15  65 216  63 240 228 167 156  64 103 124 315 310  60 122 271\n",
      "  66  26 286 158 136 309 164 200 272   7   6 230 254  22 152  21  55 157\n",
      "  12 108  68 144 170 278  59 134 231  92 175 267  74  81 288 259 264  52\n",
      " 133 176  56  90 248  17   1   8 150 206 209 140 217 194   5  33 280  34\n",
      " 212 215 263 137  45 101 266 126 198 238 199 222 120 245 135  73 313 304\n",
      " 116 255  29  97  20  46 213 262 312  89 369 360 532 599 463 551 408 322\n",
      " 553 447 516 415 575 515 555 339 331 511 568 503 519 512 492 343 578 632\n",
      " 375 636 535 514 542 462 489 337 559 364 525 442 526 405 562 368 533 548\n",
      " 372 629 637 334 493 485 450 436 617 321 464 466 536 336 595 397 517 522\n",
      " 345 382 328 355 465 341 616 624 600 509 504 434 546 390 543 357 472 531\n",
      " 399 354 510 384 423 585 347 613 541 572 497 332 353 470 549 370 618 351\n",
      " 520 398]\n"
     ]
    }
   ],
   "source": [
    "train_loader_full, valid_loader_full, test_loader_full = datasets.get_loaders(dataset, split=\"train\",confuse_mode=True,class_to_replace=class_to_forget, num_indexes_to_replace=num_to_forget, batch_size=args.batch_size, seed=seed, root=args.dataroot, augment=False, shuffle=True)\n",
    "marked_loader, _, _ = datasets.get_loaders(dataset, split=\"forget\", confuse_mode=True,class_to_replace=class_to_forget, num_indexes_to_replace=num_to_forget, only_mark=True, batch_size=1, seed=seed, root=args.dataroot, augment=False, shuffle=True)\n",
    "\n",
    "def replace_loader_dataset(data_loader, dataset, batch_size=args.batch_size, seed=1, shuffle=True):\n",
    "    manual_seed(seed)\n",
    "    loader_args = {'num_workers': 0, 'pin_memory': False}\n",
    "    def _init_fn(worker_id):\n",
    "        np.random.seed(int(seed))\n",
    "    return torch.utils.data.DataLoader(dataset, batch_size=batch_size,num_workers=0,pin_memory=True,shuffle=shuffle)\n",
    "    \n",
    "forget_dataset = copy.deepcopy(marked_loader.dataset)\n",
    "marked = forget_dataset.targets < 0\n",
    "forget_dataset.data = forget_dataset.data[marked]\n",
    "forget_dataset.targets = - forget_dataset.targets[marked] - 1\n",
    "forget_loader = replace_loader_dataset(train_loader_full, forget_dataset, batch_size=args.forget_bs, seed=seed, shuffle=True)\n",
    "\n",
    "retain_dataset = copy.deepcopy(marked_loader.dataset)\n",
    "marked = retain_dataset.targets >= 0\n",
    "retain_dataset.data = retain_dataset.data[marked]\n",
    "retain_dataset.targets = retain_dataset.targets[marked]\n",
    "retain_loader = replace_loader_dataset(train_loader_full, retain_dataset, batch_size=args.retain_bs, seed=seed, shuffle=True)\n",
    "\n",
    "assert(len(forget_dataset) + len(retain_dataset) == len(train_loader_full.dataset))"
   ]
  },
  {
   "cell_type": "code",
   "execution_count": 35,
   "metadata": {
    "scrolled": false
   },
   "outputs": [
    {
     "name": "stderr",
     "output_type": "stream",
     "text": [
      "                                                \r"
     ]
    },
    {
     "name": "stdout",
     "output_type": "stream",
     "text": [
      "Original ->\ttest: 9.00%\tForget: 14.00%\tRetain: 1.53%\tIC-test: 0.31\tfgt-test: 55\tIC-retain: 0.10454545454545454\tfgt-retain: 46\n"
     ]
    },
    {
     "name": "stderr",
     "output_type": "stream",
     "text": [
      "                                                \r"
     ]
    },
    {
     "name": "stdout",
     "output_type": "stream",
     "text": [
      "Retrain ->\ttest: 3.60%\tForget: 100.00%\tRetain: 0.00%\tIC-test: 0.02\tfgt-test: 0\tIC-retain: 0.0\tfgt-retain: 0\n"
     ]
    },
    {
     "name": "stderr",
     "output_type": "stream",
     "text": [
      "                                               \r"
     ]
    },
    {
     "name": "stdout",
     "output_type": "stream",
     "text": [
      "Finetune ->\ttest: 4.40%\tForget: 66.50%\tRetain: 0.00%\tIC-test: 0.075\tfgt-test: 14\tIC-retain: 0.0\tfgt-retain: 0\n"
     ]
    },
    {
     "name": "stderr",
     "output_type": "stream",
     "text": [
      "                                               \r"
     ]
    },
    {
     "name": "stdout",
     "output_type": "stream",
     "text": [
      "NegGrad ->\ttest: 5.80%\tForget: 81.50%\tRetain: 0.43%\tIC-test: 0.14\tfgt-test: 6\tIC-retain: 0.02727272727272727\tfgt-retain: 0\n"
     ]
    },
    {
     "name": "stderr",
     "output_type": "stream",
     "text": [
      "                                                \r"
     ]
    },
    {
     "name": "stdout",
     "output_type": "stream",
     "text": [
      "CF-k ->\ttest: 5.40%\tForget: 37.50%\tRetain: 0.07%\tIC-test: 0.115\tfgt-test: 21\tIC-retain: 0.004545454545454545\tfgt-retain: 2\n"
     ]
    },
    {
     "name": "stderr",
     "output_type": "stream",
     "text": [
      "                                                \r"
     ]
    },
    {
     "name": "stdout",
     "output_type": "stream",
     "text": [
      "EU-k ->\ttest: 3.00%\tForget: 94.50%\tRetain: 0.00%\tIC-test: 0.025\tfgt-test: 1\tIC-retain: 0.0\tfgt-retain: 0\n"
     ]
    },
    {
     "name": "stderr",
     "output_type": "stream",
     "text": [
      "                                                \r"
     ]
    },
    {
     "name": "stdout",
     "output_type": "stream",
     "text": [
      "SCRUB ->\ttest: 8.50%\tForget: 26.00%\tRetain: 1.37%\tIC-test: 0.205\tfgt-test: 41\tIC-retain: 0.04318181818181818\tfgt-retain: 19\n"
     ]
    }
   ],
   "source": [
    "try: readouts\n",
    "except: readouts = {}\n",
    "\n",
    "#_,_=activations_predictions(copy.deepcopy(model),forget_loader,'Original_Model_D_f')\n",
    "#thresh=log_dict['Original_Model_D_f_loss']+1e-5\n",
    "#print(thresh)\n",
    "readouts[\"a\"] = all_readouts(test_loader_full, retain_loader, forget_loader, copy.deepcopy(model),thresh=None,name='Original')\n",
    "readouts[\"b\"] = all_readouts(test_loader_full, retain_loader, forget_loader, copy.deepcopy(model0),thresh=None,name='Retrain')\n",
    "readouts[\"c\"] = all_readouts(test_loader_full, retain_loader, forget_loader, copy.deepcopy(model_ft),thresh=None,name='Finetune')\n",
    "readouts[\"d\"] = all_readouts(test_loader_full, retain_loader, forget_loader, copy.deepcopy(model_ng),thresh=None,name='NegGrad')\n",
    "readouts[\"e\"] = all_readouts(test_loader_full, retain_loader, forget_loader, copy.deepcopy(model_cfk),thresh=None,name='CF-k')\n",
    "readouts[\"f\"] = all_readouts(test_loader_full, retain_loader, forget_loader, copy.deepcopy(model_euk),thresh=None,name='EU-k')\n",
    "readouts[\"h\"] = all_readouts(test_loader_full, retain_loader, forget_loader, copy.deepcopy(model_s),thresh=None,name='SCRUB')"
   ]
  }
 ],
 "metadata": {
  "kernelspec": {
   "display_name": "Python 3 (ipykernel)",
   "language": "python",
   "name": "python3"
  },
  "language_info": {
   "codemirror_mode": {
    "name": "ipython",
    "version": 3
   },
   "file_extension": ".py",
   "mimetype": "text/x-python",
   "name": "python",
   "nbconvert_exporter": "python",
   "pygments_lexer": "ipython3",
   "version": "3.10.6"
  }
 },
 "nbformat": 4,
 "nbformat_minor": 4
}
