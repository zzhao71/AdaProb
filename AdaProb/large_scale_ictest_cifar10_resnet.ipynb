{
 "cells": [
  {
   "cell_type": "markdown",
   "metadata": {},
   "source": [
    "## Imports"
   ]
  },
  {
   "cell_type": "code",
   "execution_count": 1,
   "metadata": {
    "scrolled": true
   },
   "outputs": [
    {
     "name": "stderr",
     "output_type": "stream",
     "text": [
      "/tmp/ipykernel_395006/2162111138.py:25: TqdmWarning: IProgress not found. Please update jupyter and ipywidgets. See https://ipywidgets.readthedocs.io/en/stable/user_install.html\n",
      "  from tqdm.autonotebook import tqdm\n"
     ]
    }
   ],
   "source": [
    "%load_ext autoreload\n",
    "%autoreload 2\n",
    "%matplotlib inline\n",
    "import os\n",
    "os.environ['CUDA_DEVICE_ORDER']='PCI_BUS_ID'\n",
    "os.environ['CUDA_VISIBLE_DEVICES']='0'\n",
    "import variational\n",
    "import matplotlib.pyplot as plt\n",
    "import seaborn as sns\n",
    "from matplotlib.ticker import FuncFormatter\n",
    "from itertools import cycle\n",
    "import os\n",
    "import time\n",
    "import math\n",
    "import pandas as pd\n",
    "from collections import OrderedDict\n",
    "from sklearn.linear_model import LogisticRegression\n",
    "from sklearn.metrics import confusion_matrix\n",
    "    \n",
    "import copy\n",
    "import torch.nn as nn\n",
    "from torch.autograd import Variable\n",
    "from typing import List\n",
    "import itertools\n",
    "from tqdm.autonotebook import tqdm\n",
    "from models import *\n",
    "import models\n",
    "from logger import *\n",
    "\n",
    "from thirdparty.repdistiller.helper.util import adjust_learning_rate as sgda_adjust_learning_rate\n",
    "from thirdparty.repdistiller.distiller_zoo import DistillKL, HintLoss, Attention, Similarity, Correlation, VIDLoss, RKDLoss\n",
    "from thirdparty.repdistiller.distiller_zoo import PKT, ABLoss, FactorTransfer, KDSVD, FSP, NSTLoss\n",
    "\n",
    "from thirdparty.repdistiller.helper.loops import train_distill, train_distill_hide, train_distill_linear, train_vanilla, train_negrad, train_bcu, train_bcu_distill, validate\n",
    "from thirdparty.repdistiller.helper.pretrain import init"
   ]
  },
  {
   "cell_type": "markdown",
   "metadata": {},
   "source": [
    "## Metrics1"
   ]
  },
  {
   "cell_type": "code",
   "execution_count": 2,
   "metadata": {},
   "outputs": [],
   "source": [
    "from utils import *\n",
    "def get_metrics(model,dataloader,criterion,samples_correctness=False,use_bn=False,delta_w=None,scrub_act=False):\n",
    "    activations=[]\n",
    "    predictions=[]\n",
    "    if use_bn:\n",
    "        model.train()\n",
    "        dataloader = torch.utils.data.DataLoader(retain_loader.dataset, batch_size=128, shuffle=True)\n",
    "        for i in range(10):\n",
    "            for batch_idx, (data, target) in enumerate(dataloader):\n",
    "                data, target = data.to(args.device), target.to(args.device)            \n",
    "                output = model(data)\n",
    "    dataloader = torch.utils.data.DataLoader(dataloader.dataset, batch_size=1, shuffle=False)\n",
    "    model.eval()\n",
    "    metrics = AverageMeter()\n",
    "    mult = 0.5 if args.lossfn=='mse' else 1\n",
    "    for batch_idx, (data, target) in enumerate(dataloader):\n",
    "        data, target = data.to(args.device), target.to(args.device)            \n",
    "        if args.lossfn=='mse':\n",
    "            target=(2*target-1)\n",
    "            target = target.type(torch.cuda.FloatTensor).unsqueeze(1)\n",
    "        if 'mnist' in args.dataset:\n",
    "            data=data.view(data.shape[0],-1)\n",
    "        output = model(data)\n",
    "        loss = mult*criterion(output, target)\n",
    "        if samples_correctness:\n",
    "            activations.append(torch.nn.functional.softmax(output,dim=1).cpu().detach().numpy().squeeze())\n",
    "            predictions.append(get_error(output,target))\n",
    "        metrics.update(n=data.size(0), loss=loss.item(), error=get_error(output, target))\n",
    "    if samples_correctness:\n",
    "        return metrics.avg,np.stack(activations),np.array(predictions)\n",
    "    else:\n",
    "        return metrics.avg\n",
    "\n",
    "def activations_predictions(model,dataloader,name):\n",
    "    criterion = torch.nn.CrossEntropyLoss()\n",
    "    metrics,activations,predictions=get_metrics(model,dataloader,criterion,True)\n",
    "    print(f\"{name} -> Loss:{np.round(metrics['loss'],3)}, Error:{metrics['error']}\")\n",
    "    log_dict[f\"{name}_loss\"]=metrics['loss']\n",
    "    log_dict[f\"{name}_error\"]=metrics['error']\n",
    "\n",
    "    return activations,predictions\n",
    "\n",
    "def predictions_distance(l1,l2,name):\n",
    "    dist = np.sum(np.abs(l1-l2))\n",
    "    print(f\"Predictions Distance {name} -> {dist}\")\n",
    "    log_dict[f\"{name}_predictions\"]=dist\n",
    "\n",
    "def activations_distance(a1,a2,name):\n",
    "    dist = np.linalg.norm(a1-a2,ord=1,axis=1).mean()\n",
    "    print(f\"Activations Distance {name} -> {dist}\")\n",
    "    log_dict[f\"{name}_activations\"]=dist\n",
    "\n",
    "def interclass_confusion(model, dataloader, class_to_forget, name):\n",
    "    criterion = torch.nn.CrossEntropyLoss()\n",
    "    dataloader = torch.utils.data.DataLoader(dataloader.dataset, batch_size=128, shuffle=False)\n",
    "    model.eval()\n",
    "    reals=[]\n",
    "    predicts=[]\n",
    "    for batch_idx, (data, target) in enumerate(dataloader):\n",
    "        data, target = data.to(args.device), target.to(args.device) \n",
    "        if 'mnist' in args.dataset:\n",
    "            data=data.view(data.shape[0],-1)\n",
    "        output = model(data)\n",
    "        probs = torch.nn.functional.softmax(output, dim=1)\n",
    "        predict = np.argmax(probs.cpu().detach().numpy(),axis=1)\n",
    "        reals = reals + list(target.cpu().detach().numpy())\n",
    "        predicts = predicts + list(predict)\n",
    "    \n",
    "    classes = [0, 1, 2, 3, 4, 5, 6, 7, 8, 9]\n",
    "    cm = confusion_matrix(reals, predicts, labels=classes)\n",
    "    counts = 0\n",
    "    for i in range(len(cm)):\n",
    "        if i != class_to_forget[0]:\n",
    "            counts += cm[class_to_forget[0]][i]\n",
    "        if i != class_to_forget[1]:\n",
    "            counts += cm[class_to_forget[1]][i]\n",
    "    \n",
    "    ic_err = counts / (np.sum(cm[class_to_forget[0]]) + np.sum(cm[class_to_forget[1]]))\n",
    "    fgt = cm[class_to_forget[0]][class_to_forget[1]] + cm[class_to_forget[1]][class_to_forget[0]]\n",
    "    #print (cm)\n",
    "    return ic_err, fgt"
   ]
  },
  {
   "cell_type": "markdown",
   "metadata": {},
   "source": [
    "## Helper and Utils"
   ]
  },
  {
   "cell_type": "code",
   "execution_count": 3,
   "metadata": {},
   "outputs": [],
   "source": [
    "from utils import *\n",
    "def get_metrics(model,dataloader,criterion,samples_correctness=False,use_bn=False,delta_w=None,scrub_act=False):\n",
    "    activations=[]\n",
    "    predictions=[]\n",
    "    if use_bn:\n",
    "        model.train()\n",
    "        dataloader = torch.utils.data.DataLoader(retain_loader.dataset, batch_size=128, shuffle=True)\n",
    "        for i in range(10):\n",
    "            for batch_idx, (data, target) in enumerate(dataloader):\n",
    "                data, target = data.to(args.device), target.to(args.device)            \n",
    "                output = model(data)\n",
    "    dataloader = torch.utils.data.DataLoader(dataloader.dataset, batch_size=1, shuffle=False)\n",
    "    model.eval()\n",
    "    metrics = AverageMeter()\n",
    "    mult = 0.5 if args.lossfn=='mse' else 1\n",
    "    for batch_idx, (data, target) in enumerate(dataloader):\n",
    "        data, target = data.to(args.device), target.to(args.device)            \n",
    "        if args.lossfn=='mse':\n",
    "            target=(2*target-1)\n",
    "            target = target.type(torch.cuda.FloatTensor).unsqueeze(1)\n",
    "        if 'mnist' in args.dataset:\n",
    "            data=data.view(data.shape[0],-1)\n",
    "        output = model(data)\n",
    "        if scrub_act:\n",
    "            G = []\n",
    "            for cls in range(num_classes):\n",
    "                grads = torch.autograd.grad(output[0,cls],model.parameters(),retain_graph=True)\n",
    "                grads = torch.cat([g.view(-1) for g in grads])\n",
    "                G.append(grads)\n",
    "            grads = torch.autograd.grad(output_sf[0,cls],model_scrubf.parameters(),retain_graph=False)\n",
    "            G = torch.stack(G).pow(2)\n",
    "            delta_f = torch.matmul(G,delta_w)\n",
    "            output += delta_f.sqrt()*torch.empty_like(delta_f).normal_()\n",
    "\n",
    "        loss = mult*criterion(output, target)\n",
    "        if samples_correctness:\n",
    "            activations.append(torch.nn.functional.softmax(output,dim=1).cpu().detach().numpy().squeeze())\n",
    "            predictions.append(get_error(output,target))\n",
    "        metrics.update(n=data.size(0), loss=loss.item(), error=get_error(output, target))\n",
    "    if samples_correctness:\n",
    "        return metrics.avg,np.stack(activations),np.array(predictions)\n",
    "    else:\n",
    "        return metrics.avg\n",
    "\n",
    "def l2_penalty(model,model_init,weight_decay):\n",
    "    l2_loss = 0\n",
    "    for (k,p),(k_init,p_init) in zip(model.named_parameters(),model_init.named_parameters()):\n",
    "        if p.requires_grad:\n",
    "            l2_loss += (p-p_init).pow(2).sum()\n",
    "    l2_loss *= (weight_decay/2.)\n",
    "    return l2_loss\n",
    "\n",
    "def run_train_epoch(model: nn.Module, model_init, data_loader: torch.utils.data.DataLoader, \n",
    "                    loss_fn: nn.Module,\n",
    "                    optimizer: torch.optim.SGD, split: str, epoch: int, ignore_index=None,\n",
    "                    negative_gradient=False, negative_multiplier=-1, random_labels=False,\n",
    "                    quiet=False,delta_w=None,scrub_act=False):\n",
    "    model.eval()\n",
    "    metrics = AverageMeter()    \n",
    "    num_labels = data_loader.dataset.targets.max().item() + 1\n",
    "    \n",
    "    with torch.set_grad_enabled(split != 'test'):\n",
    "        for idx, batch in enumerate(tqdm(data_loader, leave=False)):\n",
    "            batch = [tensor.to(next(model.parameters()).device) for tensor in batch]\n",
    "            input, target = batch\n",
    "            output = model(input)\n",
    "            if split=='test' and scrub_act:\n",
    "                G = []\n",
    "                for cls in range(num_classes):\n",
    "                    grads = torch.autograd.grad(output[0,cls],model.parameters(),retain_graph=True)\n",
    "                    grads = torch.cat([g.view(-1) for g in grads])\n",
    "                    G.append(grads)\n",
    "                grads = torch.autograd.grad(output_sf[0,cls],model_scrubf.parameters(),retain_graph=False)\n",
    "                G = torch.stack(G).pow(2)\n",
    "                delta_f = torch.matmul(G,delta_w)\n",
    "                output += delta_f.sqrt()*torch.empty_like(delta_f).normal_()\n",
    "            loss = loss_fn(output, target) + l2_penalty(model,model_init,args.weight_decay)\n",
    "            metrics.update(n=input.size(0), loss=loss_fn(output,target).item(), error=get_error(output, target))\n",
    "            \n",
    "            if split != 'test':\n",
    "                model.zero_grad()\n",
    "                loss.backward()\n",
    "                optimizer.step()\n",
    "    if not quiet:\n",
    "        log_metrics(split, metrics, epoch)\n",
    "    return metrics.avg\n",
    "\n",
    "def run_neggrad_epoch(model: nn.Module, model_init, data_loader: torch.utils.data.DataLoader, \n",
    "                    forget_loader: torch.utils.data.DataLoader,\n",
    "                    alpha: float,\n",
    "                    loss_fn: nn.Module,\n",
    "                    optimizer: torch.optim.SGD, split: str, epoch: int, ignore_index=None,\n",
    "                    quiet=False):\n",
    "    model.eval()\n",
    "    metrics = AverageMeter()    \n",
    "    num_labels = data_loader.dataset.targets.max().item() + 1\n",
    "    \n",
    "    with torch.set_grad_enabled(split != 'test'):\n",
    "        for idx, (batch_retain,batch_forget) in enumerate(tqdm(zip(data_loader,cycle(forget_loader)), leave=False)):\n",
    "            batch_retain = [tensor.to(next(model.parameters()).device) for tensor in batch_retain]\n",
    "            batch_forget = [tensor.to(next(model.parameters()).device) for tensor in batch_forget]\n",
    "            input_r, target_r = batch_retain\n",
    "            input_f, target_f = batch_forget\n",
    "            output_r = model(input_r)\n",
    "            output_f = model(input_f)\n",
    "            loss = alpha*(loss_fn(output_r, target_r) + l2_penalty(model,model_init,args.weight_decay)) - (1-alpha)*loss_fn(output_f, target_f)\n",
    "            metrics.update(n=input_r.size(0), loss=loss_fn(output_r,target_r).item(), error=get_error(output_r, target_r))\n",
    "            if split != 'test':\n",
    "                model.zero_grad()\n",
    "                loss.backward()\n",
    "                optimizer.step()\n",
    "    if not quiet:\n",
    "        log_metrics(split, metrics, epoch)\n",
    "    return metrics.avg"
   ]
  },
  {
   "cell_type": "code",
   "execution_count": 5,
   "metadata": {},
   "outputs": [],
   "source": [
    "def test(model, data_loader):\n",
    "    loss_fn = nn.CrossEntropyLoss()\n",
    "    model_init=copy.deepcopy(model)\n",
    "    return run_train_epoch(model, model_init, data_loader, loss_fn, optimizer=None, split='test', epoch=epoch, ignore_index=None, quiet=True)\n",
    "\n",
    "def readout_retrain(model, data_loader, test_loader, lr=0.1, epochs=500, threshold=0.01, quiet=True):\n",
    "    torch.manual_seed(seed)\n",
    "    model = copy.deepcopy(model)\n",
    "    loss_fn = nn.CrossEntropyLoss()\n",
    "    optimizer = torch.optim.SGD(model.parameters(), lr=lr, weight_decay=0.0)\n",
    "    sampler = torch.utils.data.RandomSampler(data_loader.dataset, replacement=True, num_samples=500)\n",
    "    data_loader_small = torch.utils.data.DataLoader(data_loader.dataset, batch_size=data_loader.batch_size, sampler=sampler, num_workers=data_loader.num_workers)\n",
    "    metrics = []\n",
    "    model_init=copy.deepcopy(model)\n",
    "    for epoch in range(epochs):\n",
    "        metrics.append(run_train_epoch(model, model_init, test_loader, loss_fn, optimizer, split='test', epoch=epoch, ignore_index=None, quiet=quiet))\n",
    "        if metrics[-1]['loss'] <= threshold:\n",
    "            break\n",
    "        run_train_epoch(model, model_init, data_loader_small, loss_fn, optimizer, split='train', epoch=epoch, ignore_index=None, quiet=quiet)\n",
    "    return epoch, metrics\n",
    "\n",
    "def extract_retrain_time(metrics, threshold=0.1):\n",
    "    losses = np.array([m['loss'] for m in metrics])\n",
    "    return np.argmax(losses < threshold)\n",
    "\n",
    "def all_readouts(test_loader, retain_loader, forget_loader, model, wandb=None,thresh=0.1,name='method'):\n",
    "    #train_loader = torch.utils.data.DataLoader(train_loader_full.dataset, batch_size=args.batch_size, shuffle=True)\n",
    "    #retrain_time, _ = readout_retrain(model, train_loader, forget_loader, epochs=100, lr=0.1, threshold=thresh)\n",
    "    test_error = test(model, test_loader)['error']\n",
    "    forget_error = test(model, forget_loader)['error']\n",
    "    retain_error = test(model, retain_loader)['error']\n",
    "    ic_err_test, fgt_test = interclass_confusion(model, test_loader, class_to_forget, name)\n",
    "    ic_err_retain, fgt_retain = interclass_confusion(model, retain_loader, class_to_forget, name)\n",
    "    print(f\"{name} ->\"\n",
    "          f\"\\ttest: {test_error:.2%}\"\n",
    "          f\"\\tForget: {forget_error:.2%}\\tRetain: {retain_error:.2%}\"\n",
    "          f\"\\tIC-test: {ic_err_test}\\tfgt-test: {fgt_test}\"\n",
    "          f\"\\tIC-retain: {ic_err_retain}\\tfgt-retain: {fgt_retain}\")\n",
    "    #log_dict[f\"{name}_retrain_time\"]=retrain_time+1\n",
    "    if wandb is not None:\n",
    "        #wandb.log({f\"{name}_RLT\": retrain_time + 1})\n",
    "        wandb.log({f\"{name}_test_error\": test_error})\n",
    "        wandb.log({f\"{name}_retain_error\": retain_error})\n",
    "        wandb.log({f\"{name}_forget_error\": forget_error})\n",
    "        wandb.log({f\"{name}_IC_err_test\": ic_err_test})\n",
    "        wandb.log({f\"{name}_IC_err_retain\": ic_err_retain})\n",
    "        wandb.log({f\"{name}_fgt_test\": fgt_test})\n",
    "        wandb.log({f\"{name}_fgt_retain\": fgt_retain})\n",
    "    return(dict(test_error=test_error, forget_error=forget_error, retain_error=retain_error))"
   ]
  },
  {
   "cell_type": "markdown",
   "metadata": {},
   "source": [
    "## Forgetting helper functions"
   ]
  },
  {
   "cell_type": "code",
   "execution_count": 7,
   "metadata": {},
   "outputs": [],
   "source": [
    "def finetune(model: nn.Module, data_loader: torch.utils.data.DataLoader, lr=0.01, epochs=10, quiet=False):\n",
    "    loss_fn = nn.CrossEntropyLoss()\n",
    "    optimizer = torch.optim.SGD(model.parameters(), lr=lr, weight_decay=0.0)\n",
    "    model_init=copy.deepcopy(model)\n",
    "    for epoch in range(epochs):\n",
    "        run_train_epoch(model, model_init, data_loader, loss_fn, optimizer, split='train', epoch=epoch, ignore_index=None, quiet=quiet)\n",
    "        #train_vanilla(epoch, data_loader, model, loss_fn, optimizer, args)\n",
    "\n",
    "def negative_grad(model: nn.Module, data_loader: torch.utils.data.DataLoader, forget_loader: torch.utils.data.DataLoader, alpha: float, lr=0.01, epochs=10, quiet=False, args=None):\n",
    "    loss_fn = nn.CrossEntropyLoss()\n",
    "    optimizer = torch.optim.SGD(model.parameters(), lr=lr, weight_decay=0.0)\n",
    "    model_init=copy.deepcopy(model)\n",
    "    for epoch in range(epochs):\n",
    "        #run_neggrad_epoch(model, model_init, data_loader, forget_loader, alpha, loss_fn, optimizer, split='train', epoch=epoch, ignore_index=None, quiet=quiet)\n",
    "        train_negrad(epoch, data_loader, forget_loader, model, loss_fn, optimizer,  alpha, args)\n",
    "\n",
    "def fk_fientune(model: nn.Module, data_loader: torch.utils.data.DataLoader, args, lr=0.01, epochs=10, quiet=False):\n",
    "    loss_fn = nn.CrossEntropyLoss()\n",
    "    optimizer = torch.optim.SGD(model.parameters(), lr=lr, weight_decay=0.0005)\n",
    "    model_init=copy.deepcopy(model)\n",
    "    for epoch in range(epochs):\n",
    "        sgda_adjust_learning_rate(epoch, args, optimizer)\n",
    "        #train_vanilla(epoch, data_loader, model, loss_fn, optimizer, args)\n",
    "        run_train_epoch(model, model_init, data_loader, loss_fn, optimizer, split='train', epoch=epoch, ignore_index=None, quiet=quiet)\n",
    "\n",
    "def pdb():\n",
    "    import pdb\n",
    "    pdb.set_trace\n",
    "    \n",
    "def parameter_count(model):\n",
    "    count=0\n",
    "    for p in model.parameters():\n",
    "        count+=np.prod(np.array(list(p.shape)))\n",
    "    print(f'Total Number of Parameters: {count}')\n",
    "    \n",
    "def vectorize_params(model):\n",
    "    param = []\n",
    "    for p in model.parameters():\n",
    "        param.append(p.data.view(-1).cpu().numpy())\n",
    "    return np.concatenate(param)\n",
    "\n",
    "def print_param_shape(model):\n",
    "    for k,p in model.named_parameters():\n",
    "        print(k,p.shape)\n",
    "\n",
    "def distance(model,model0):\n",
    "    distance=0\n",
    "    normalization=0\n",
    "    for (k, p), (k0, p0) in zip(model.named_parameters(), model0.named_parameters()):\n",
    "        space='  ' if 'bias' in k else ''\n",
    "        current_dist=(p.data0-p0.data0).pow(2).sum().item()\n",
    "        current_norm=p.data0.pow(2).sum().item()\n",
    "        distance+=current_dist\n",
    "        normalization+=current_norm\n",
    "    print(f'Distance: {np.sqrt(distance)}')\n",
    "    print(f'Normalized Distance: {1.0*np.sqrt(distance/normalization)}')\n",
    "    return 1.0*np.sqrt(distance/normalization)\n",
    "\n",
    "def ntk_init(resume,seed=1):\n",
    "    manual_seed(seed)\n",
    "    model_init = models.get_model(arch, num_classes=num_classes, filters_percentage=filters).to(args.device)\n",
    "    model_init.load_state_dict(torch.load(resume))\n",
    "    return model_init"
   ]
  },
  {
   "cell_type": "code",
   "execution_count": null,
   "metadata": {},
   "outputs": [],
   "source": [
    "def opt_solver(probs, target_distb, num_iter=10, th=0.1, num_newton=30):\n",
    "    entropy = (-1 * probs * torch.log(probs + 1e-6)).sum(1)\n",
    "    weights = (1 / entropy)\n",
    "    N, K = probs.size(0), probs.size(1)\n",
    "\n",
    "    A, w, lam, nu, r, c = probs.numpy(), weights.numpy(), np.ones(N), np.ones(K), np.ones(N), target_distb.numpy()\n",
    "    A_e = A / math.e\n",
    "    X = np.exp(-1 * lam / w)\n",
    "    Y = np.exp(-1 * nu.reshape(1, -1) / w.reshape(-1, 1))\n",
    "    prev_Y = np.zeros(K)\n",
    "    X_t, Y_t = X, Y\n",
    "\n",
    "    for n in range(num_iter):\n",
    "        # Normalization\n",
    "        denom = np.sum(A_e * Y_t, 1)\n",
    "        X_t = r / denom\n",
    "\n",
    "        # Newton method\n",
    "        Y_t = np.zeros(K)\n",
    "        for i in range(K):\n",
    "            Y_t[i] = optimize.newton(f, prev_Y[i], maxiter=num_newton, args=(A_e[:, i], X_t, w, c[i]), tol=th)\n",
    "        prev_Y = Y_t\n",
    "        Y_t = np.exp(-1 * Y_t.reshape(1, -1) / w.reshape(-1, 1))\n",
    "\n",
    "    denom = np.sum(A_e * Y_t, 1)\n",
    "    X_t = r / denom\n",
    "    M = torch.Tensor(A_e * X_t.reshape(-1, 1) * Y_t)\n",
    "\n",
    "    return M"
   ]
  },
  {
   "cell_type": "markdown",
   "metadata": {},
   "source": [
    "### Pre-training"
   ]
  },
  {
   "cell_type": "code",
   "execution_count": 8,
   "metadata": {
    "scrolled": true
   },
   "outputs": [
    {
     "name": "stdout",
     "output_type": "stream",
     "text": [
      "Checkpoint name: cifar100_resnet_1_0_forget_None_lr_0_1_bs_128_ls_ce_wd_0_0005_seed_1\n",
      "[Logging in cifar100_resnet_1_0_forget_None_lr_0_1_bs_128_ls_ce_wd_0_0005_seed_1_training]\n",
      "Files already downloaded and verified\n",
      "Files already downloaded and verified\n",
      "confuse mode: False\n",
      "split mode: None\n",
      "Number of Classes: 100\n",
      "[0] train metrics:{\"loss\": 4.110220985412598, \"error\": 0.9239}\n",
      "Learning Rate : 0.1\n",
      "[0] dry_run metrics:{\"loss\": 3.7692216533660887, \"error\": 0.87745}\n",
      "Learning Rate : 0.1\n",
      "[0] test metrics:{\"loss\": 3.779144535446167, \"error\": 0.8744}\n",
      "Learning Rate : 0.1\n",
      "Epoch Time: 29.82 sec\n",
      "[1] train metrics:{\"loss\": 3.6166512355804445, \"error\": 0.84515}\n",
      "Learning Rate : 0.1\n",
      "Epoch Time: 12.34 sec\n",
      "[2] train metrics:{\"loss\": 3.262185221862793, \"error\": 0.767475}\n",
      "Learning Rate : 0.1\n",
      "Epoch Time: 13.29 sec\n",
      "[3] train metrics:{\"loss\": 2.9241571712493895, \"error\": 0.6889}\n",
      "Learning Rate : 0.1\n",
      "Epoch Time: 15.36 sec\n",
      "[4] train metrics:{\"loss\": 2.6573989303588865, \"error\": 0.61595}\n",
      "Learning Rate : 0.1\n",
      "Epoch Time: 15.34 sec\n",
      "[5] train metrics:{\"loss\": 2.456750422286987, \"error\": 0.55295}\n",
      "Learning Rate : 0.1\n",
      "Epoch Time: 7.95 sec\n",
      "[6] train metrics:{\"loss\": 2.316490512084961, \"error\": 0.494525}\n",
      "Learning Rate : 0.1\n",
      "Epoch Time: 7.49 sec\n",
      "[7] train metrics:{\"loss\": 2.2176277866363527, \"error\": 0.44985}\n",
      "Learning Rate : 0.1\n",
      "Epoch Time: 7.12 sec\n",
      "[8] train metrics:{\"loss\": 2.1540924285888674, \"error\": 0.404375}\n",
      "Learning Rate : 0.1\n",
      "Epoch Time: 7.29 sec\n",
      "[9] train metrics:{\"loss\": 2.1174500984191895, \"error\": 0.37015}\n",
      "Learning Rate : 0.1\n",
      "Epoch Time: 7.32 sec\n",
      "[10] train metrics:{\"loss\": 2.0962327156066896, \"error\": 0.33205}\n",
      "Learning Rate : 0.1\n",
      "Epoch Time: 6.9 sec\n",
      "[11] train metrics:{\"loss\": 2.089509313583374, \"error\": 0.2955}\n",
      "Learning Rate : 0.1\n",
      "Epoch Time: 7.46 sec\n",
      "[12] train metrics:{\"loss\": 2.1187580627441407, \"error\": 0.27275}\n",
      "Learning Rate : 0.1\n",
      "Epoch Time: 7.03 sec\n",
      "[13] train metrics:{\"loss\": 2.1520710746765137, \"error\": 0.2503}\n",
      "Learning Rate : 0.1\n",
      "Epoch Time: 7.25 sec\n",
      "[14] train metrics:{\"loss\": 2.1659040351867676, \"error\": 0.222975}\n",
      "Learning Rate : 0.1\n",
      "Epoch Time: 6.73 sec\n",
      "[15] train metrics:{\"loss\": 2.180283085632324, \"error\": 0.202875}\n",
      "Learning Rate : 0.1\n",
      "Epoch Time: 8.46 sec\n",
      "[16] train metrics:{\"loss\": 2.237203318405151, \"error\": 0.195875}\n",
      "Learning Rate : 0.1\n",
      "Epoch Time: 7.1 sec\n",
      "[17] train metrics:{\"loss\": 2.256527083206177, \"error\": 0.18455}\n",
      "Learning Rate : 0.1\n",
      "Epoch Time: 7.25 sec\n",
      "[18] train metrics:{\"loss\": 2.3006882884979247, \"error\": 0.180475}\n",
      "Learning Rate : 0.1\n",
      "Epoch Time: 7.05 sec\n",
      "[19] train metrics:{\"loss\": 2.2771842372894286, \"error\": 0.164375}\n",
      "Learning Rate : 0.1\n",
      "Epoch Time: 7.9 sec\n",
      "[20] train metrics:{\"loss\": 2.332470198059082, \"error\": 0.1652}\n",
      "Learning Rate : 0.1\n",
      "Epoch Time: 7.58 sec\n",
      "[21] train metrics:{\"loss\": 2.330265349960327, \"error\": 0.1593}\n",
      "Learning Rate : 0.1\n",
      "Epoch Time: 7.13 sec\n",
      "[22] train metrics:{\"loss\": 2.4015751735687254, \"error\": 0.164125}\n",
      "Learning Rate : 0.1\n",
      "Epoch Time: 8.0 sec\n",
      "[23] train metrics:{\"loss\": 2.3445411685943602, \"error\": 0.1472}\n",
      "Learning Rate : 0.1\n",
      "Epoch Time: 7.58 sec\n",
      "[24] train metrics:{\"loss\": 2.3646815967559816, \"error\": 0.151725}\n",
      "Learning Rate : 0.1\n",
      "Epoch Time: 7.81 sec\n",
      "[25] train metrics:{\"loss\": 2.3665282775878906, \"error\": 0.14435}\n",
      "Learning Rate : 0.1\n",
      "Epoch Time: 7.9 sec\n",
      "[26] train metrics:{\"loss\": 2.345229354476929, \"error\": 0.14115}\n",
      "Learning Rate : 0.1\n",
      "Epoch Time: 8.1 sec\n",
      "[27] train metrics:{\"loss\": 2.3579494285583498, \"error\": 0.142225}\n",
      "Learning Rate : 0.1\n",
      "Epoch Time: 7.35 sec\n",
      "[28] train metrics:{\"loss\": 2.3899746318817137, \"error\": 0.1456}\n",
      "Learning Rate : 0.1\n",
      "Epoch Time: 7.35 sec\n",
      "[29] train metrics:{\"loss\": 2.4067670585632324, \"error\": 0.145975}\n",
      "Learning Rate : 0.1\n",
      "Epoch Time: 7.47 sec\n",
      "[30] train metrics:{\"loss\": 2.4091349899291994, \"error\": 0.14255}\n",
      "Learning Rate : 0.1\n",
      "Epoch Time: 6.89 sec\n",
      "Pure training time: 270.6700000000001 sec\n"
     ]
    }
   ],
   "source": [
    "%run main.py --dataset cifar100 --dataroot=data/cifar100/ --model resnet --filters 1.0 --lr 0.1 --lossfn ce --num-classes 100"
   ]
  },
  {
   "cell_type": "markdown",
   "metadata": {},
   "source": [
    "### Original"
   ]
  },
  {
   "cell_type": "code",
   "execution_count": 9,
   "metadata": {
    "scrolled": true
   },
   "outputs": [
    {
     "name": "stdout",
     "output_type": "stream",
     "text": [
      "Checkpoint name: small_cifar5_resnet_1_0_forget_None_lr_0_001_bs_128_ls_ce_wd_0_1_seed_3\n",
      "[Logging in small_cifar5_resnet_1_0_forget_None_lr_0_001_bs_128_ls_ce_wd_0_1_seed_3_training]\n",
      "Files already downloaded and verified\n",
      "Files already downloaded and verified\n",
      "confuse mode: False\n",
      "split mode: None\n",
      "Number of Classes: 5\n",
      "[0] train metrics:{\"loss\": 1.5698002729415894, \"error\": 0.7219999980926514}\n",
      "Learning Rate : 0.001\n",
      "[0] test metrics:{\"loss\": 1.547294379234314, \"error\": 0.6879999997615814}\n",
      "Learning Rate : 0.001\n",
      "Epoch Time: 0.28 sec\n",
      "[1] train metrics:{\"loss\": 1.5123306999206543, \"error\": 0.6480000011920929}\n",
      "Learning Rate : 0.001\n",
      "Epoch Time: 0.11 sec\n",
      "[2] train metrics:{\"loss\": 1.4296097145080566, \"error\": 0.5900000016689301}\n",
      "Learning Rate : 0.001\n",
      "Epoch Time: 0.1 sec\n",
      "[3] train metrics:{\"loss\": 1.3396971225738525, \"error\": 0.5300000021457673}\n",
      "Learning Rate : 0.001\n",
      "Epoch Time: 0.11 sec\n",
      "[4] train metrics:{\"loss\": 1.2585979499816895, \"error\": 0.46399999380111695}\n",
      "Learning Rate : 0.001\n",
      "Epoch Time: 0.1 sec\n",
      "[5] train metrics:{\"loss\": 1.1852641887664794, \"error\": 0.4280000009536743}\n",
      "Learning Rate : 0.001\n",
      "Epoch Time: 0.18 sec\n",
      "[6] train metrics:{\"loss\": 1.1190925750732421, \"error\": 0.3940000033378601}\n",
      "Learning Rate : 0.001\n",
      "Epoch Time: 0.09 sec\n",
      "[7] train metrics:{\"loss\": 1.06109437084198, \"error\": 0.3660000014305115}\n",
      "Learning Rate : 0.001\n",
      "Epoch Time: 0.09 sec\n",
      "[8] train metrics:{\"loss\": 1.009152063846588, \"error\": 0.3320000023841858}\n",
      "Learning Rate : 0.001\n",
      "Epoch Time: 0.09 sec\n",
      "[9] train metrics:{\"loss\": 0.9606991844177246, \"error\": 0.3079999995231628}\n",
      "Learning Rate : 0.001\n",
      "Epoch Time: 0.09 sec\n",
      "[10] train metrics:{\"loss\": 0.9174478373527527, \"error\": 0.28000000429153443}\n",
      "Learning Rate : 0.001\n",
      "Epoch Time: 0.18 sec\n",
      "[11] train metrics:{\"loss\": 0.8785706114768982, \"error\": 0.2600000071525574}\n",
      "Learning Rate : 0.001\n",
      "Epoch Time: 0.12 sec\n",
      "[12] train metrics:{\"loss\": 0.8426756324768067, \"error\": 0.2499999952316284}\n",
      "Learning Rate : 0.001\n",
      "Epoch Time: 0.09 sec\n",
      "[13] train metrics:{\"loss\": 0.8098652992248535, \"error\": 0.23999999809265138}\n",
      "Learning Rate : 0.001\n",
      "Epoch Time: 0.09 sec\n",
      "[14] train metrics:{\"loss\": 0.7795161581039429, \"error\": 0.23599999713897704}\n",
      "Learning Rate : 0.001\n",
      "Epoch Time: 0.09 sec\n",
      "[15] train metrics:{\"loss\": 0.7505445356369018, \"error\": 0.23200000715255736}\n",
      "Learning Rate : 0.001\n",
      "Epoch Time: 0.19 sec\n",
      "[16] train metrics:{\"loss\": 0.7248035516738892, \"error\": 0.2240000047683716}\n",
      "Learning Rate : 0.001\n",
      "Epoch Time: 0.11 sec\n",
      "[17] train metrics:{\"loss\": 0.7012830009460449, \"error\": 0.216}\n",
      "Learning Rate : 0.001\n",
      "Epoch Time: 0.09 sec\n",
      "[18] train metrics:{\"loss\": 0.678739227771759, \"error\": 0.21200000762939453}\n",
      "Learning Rate : 0.001\n",
      "Epoch Time: 0.08 sec\n",
      "[19] train metrics:{\"loss\": 0.6577521595954895, \"error\": 0.20200000047683717}\n",
      "Learning Rate : 0.001\n",
      "Epoch Time: 0.09 sec\n",
      "[20] train metrics:{\"loss\": 0.637322470664978, \"error\": 0.1940000023841858}\n",
      "Learning Rate : 0.001\n",
      "Epoch Time: 0.17 sec\n",
      "[21] train metrics:{\"loss\": 0.6188072509765625, \"error\": 0.18999999570846557}\n",
      "Learning Rate : 0.001\n",
      "Epoch Time: 0.1 sec\n",
      "[22] train metrics:{\"loss\": 0.5998594903945923, \"error\": 0.18000000715255737}\n",
      "Learning Rate : 0.001\n",
      "Epoch Time: 0.1 sec\n",
      "[23] train metrics:{\"loss\": 0.5824573211669922, \"error\": 0.17200000715255737}\n",
      "Learning Rate : 0.001\n",
      "Epoch Time: 0.09 sec\n",
      "[24] train metrics:{\"loss\": 0.5663832321166992, \"error\": 0.1599999942779541}\n",
      "Learning Rate : 0.001\n",
      "Epoch Time: 0.09 sec\n",
      "[25] train metrics:{\"loss\": 0.5506122980117798, \"error\": 0.15400000286102294}\n",
      "Learning Rate : 0.001\n",
      "Epoch Time: 0.14 sec\n",
      "[26] train metrics:{\"loss\": 0.5353427159786225, \"error\": 0.1479999966621399}\n",
      "Learning Rate : 0.001\n",
      "Epoch Time: 0.09 sec\n",
      "[27] train metrics:{\"loss\": 0.5209583477973938, \"error\": 0.14400000095367432}\n",
      "Learning Rate : 0.001\n",
      "Epoch Time: 0.09 sec\n",
      "[28] train metrics:{\"loss\": 0.5072608149051666, \"error\": 0.1380000033378601}\n",
      "Learning Rate : 0.001\n",
      "Epoch Time: 0.08 sec\n",
      "[29] train metrics:{\"loss\": 0.4942183749675751, \"error\": 0.13199999904632567}\n",
      "Learning Rate : 0.001\n",
      "Epoch Time: 0.1 sec\n",
      "[30] train metrics:{\"loss\": 0.4793111574649811, \"error\": 0.1279999942779541}\n",
      "Learning Rate : 0.001\n",
      "Epoch Time: 0.16 sec\n",
      "Pure training time: 2.98 sec\n"
     ]
    }
   ],
   "source": [
    "%run main.py --dataset small_cifar5 --model resnet --dataroot=data/cifar10/ --filters 1.0 --lr 0.001 \\\n",
    "--resume checkpoints/cifar100_resnet_1_0_forget_None_lr_0_1_bs_128_ls_ce_wd_0_0005_seed_1_30.pt --disable-bn \\\n",
    "--weight-decay 0.1 --batch-size 128 --epochs 31 --seed 3"
   ]
  },
  {
   "cell_type": "code",
   "execution_count": 10,
   "metadata": {},
   "outputs": [
    {
     "name": "stdout",
     "output_type": "stream",
     "text": [
      "Checkpoint name: cifar10_resnet_1_0_forget_None_lr_0_01_bs_128_ls_ce_wd_0_0005_seed_1\n",
      "[Logging in cifar10_resnet_1_0_forget_None_lr_0_01_bs_128_ls_ce_wd_0_0005_seed_1_training]\n",
      "Files already downloaded and verified\n",
      "Files already downloaded and verified\n",
      "confuse mode: True\n",
      "split mode: train\n",
      "[22462  6646 36135 23850  1434  5306 18141  4049 11418 10150 21959  2340\n",
      " 28237 23045 33372 17719 28726 24235 36477 30535 34830 13742  9505  9925\n",
      "  8968  5340 32206 23111 36876 37753 18138   346  9984 33198 10884 17838\n",
      "  5290 34800  8839 26496 22062 19691 25490 32745 29623 37043 38544 16174\n",
      " 26055 17790 13062  3564 33467 19387 12727 10616  5925 38573 20823 25972\n",
      "  2232 39091 16018 31897  6216 31382  9265  4834 15220 13636 20376 17239\n",
      "  3784 30964 11139 32269 25536 37777  9464 31770 12377 14878 22419 35384\n",
      " 33593 13768  8813 14913  1918  3157 22036 26124 26696 32374   359 18794\n",
      " 37201 12935 39835  6800 34930 21153  1332   444 26453 22013  2780 28519\n",
      " 32137 33713  9783 18691  5872  5426 26608  5517 26355 34576 15284  9727\n",
      " 11908 16177  5566 33238 31572 31990  6716 36313 26521  8618 25781 10358\n",
      "  9601   341  6301 36220 15826  3522  4898 31528 28091 12132 15300  5732\n",
      " 10974 23654 30805 26574  5750  7350 19049 24064  7229  8594 31711 15489\n",
      " 21523 27315  8146 28736 36469 37611 32999 39736 27867 33821 34312  3036\n",
      " 11154 19416 37108 22615 36649 11823  7061 36430 18557 37081  8899 29319\n",
      "  9990 26523 33672  7326 39648 21642   132  4050  6683  5979 20121 36524\n",
      " 22540 33421 27229 13730 29155 25346  2670   732]\n",
      "Number of Classes: 10\n",
      "[0] train metrics:{\"loss\": 0.8994579604148865, \"error\": 0.31465}\n",
      "Learning Rate : 0.01\n",
      "[0] test metrics:{\"loss\": 0.6736513387680054, \"error\": 0.2306}\n",
      "Learning Rate : 0.01\n",
      "Epoch Time: 8.41 sec\n",
      "[1] train metrics:{\"loss\": 0.5806631664276123, \"error\": 0.19635}\n",
      "Learning Rate : 0.01\n",
      "Epoch Time: 7.38 sec\n",
      "[2] train metrics:{\"loss\": 0.44068201198577883, \"error\": 0.14615}\n",
      "Learning Rate : 0.01\n",
      "Epoch Time: 7.46 sec\n",
      "[3] train metrics:{\"loss\": 0.3294310111761093, \"error\": 0.105}\n",
      "Learning Rate : 0.01\n",
      "Epoch Time: 7.64 sec\n",
      "[4] train metrics:{\"loss\": 0.23757381939888, \"error\": 0.07145}\n",
      "Learning Rate : 0.01\n",
      "Epoch Time: 7.29 sec\n",
      "[5] train metrics:{\"loss\": 0.15486119554042815, \"error\": 0.0413}\n",
      "Learning Rate : 0.01\n",
      "Epoch Time: 7.29 sec\n",
      "[6] train metrics:{\"loss\": 0.09451916145086288, \"error\": 0.018575}\n",
      "Learning Rate : 0.01\n",
      "Epoch Time: 7.07 sec\n",
      "[7] train metrics:{\"loss\": 0.0700134416103363, \"error\": 0.009625}\n",
      "Learning Rate : 0.01\n",
      "Epoch Time: 7.07 sec\n",
      "[8] train metrics:{\"loss\": 0.05248799537420273, \"error\": 0.003975}\n",
      "Learning Rate : 0.01\n",
      "Epoch Time: 7.22 sec\n",
      "[9] train metrics:{\"loss\": 0.03984407194852829, \"error\": 0.00035}\n",
      "Learning Rate : 0.01\n",
      "Epoch Time: 7.1 sec\n",
      "[10] train metrics:{\"loss\": 0.03694459772706032, \"error\": 0.0}\n",
      "Learning Rate : 0.01\n",
      "Epoch Time: 7.26 sec\n",
      "[11] train metrics:{\"loss\": 0.03580245625972748, \"error\": 0.0}\n",
      "Learning Rate : 0.01\n",
      "Epoch Time: 7.08 sec\n",
      "[12] train metrics:{\"loss\": 0.03495487071871758, \"error\": 0.0}\n",
      "Learning Rate : 0.01\n",
      "Epoch Time: 7.14 sec\n",
      "[13] train metrics:{\"loss\": 0.03420322653055191, \"error\": 0.0}\n",
      "Learning Rate : 0.01\n",
      "Epoch Time: 7.42 sec\n",
      "[14] train metrics:{\"loss\": 0.03351431832909584, \"error\": 0.0}\n",
      "Learning Rate : 0.01\n",
      "Epoch Time: 7.37 sec\n",
      "[15] train metrics:{\"loss\": 0.0328611094892025, \"error\": 0.0}\n",
      "Learning Rate : 0.01\n",
      "Epoch Time: 7.71 sec\n",
      "[16] train metrics:{\"loss\": 0.032256303888559344, \"error\": 0.0}\n",
      "Learning Rate : 0.01\n",
      "Epoch Time: 7.04 sec\n",
      "[17] train metrics:{\"loss\": 0.031692172318696976, \"error\": 0.0}\n",
      "Learning Rate : 0.01\n",
      "Epoch Time: 6.93 sec\n",
      "[18] train metrics:{\"loss\": 0.031148864424228668, \"error\": 0.0}\n",
      "Learning Rate : 0.01\n",
      "Epoch Time: 7.2 sec\n",
      "[19] train metrics:{\"loss\": 0.030647821056842803, \"error\": 0.0}\n",
      "Learning Rate : 0.01\n",
      "Epoch Time: 6.93 sec\n",
      "[20] train metrics:{\"loss\": 0.030150964498519898, \"error\": 0.0}\n",
      "Learning Rate : 0.01\n",
      "Epoch Time: 7.07 sec\n",
      "[21] train metrics:{\"loss\": 0.02969496927857399, \"error\": 0.0}\n",
      "Learning Rate : 0.01\n",
      "Epoch Time: 7.03 sec\n",
      "[22] train metrics:{\"loss\": 0.02928686562180519, \"error\": 0.0}\n",
      "Learning Rate : 0.01\n",
      "Epoch Time: 7.09 sec\n",
      "[23] train metrics:{\"loss\": 0.028866908860206604, \"error\": 0.0}\n",
      "Learning Rate : 0.01\n",
      "Epoch Time: 6.93 sec\n",
      "[24] train metrics:{\"loss\": 0.028454023391008377, \"error\": 0.0}\n",
      "Learning Rate : 0.01\n",
      "Epoch Time: 7.45 sec\n",
      "[25] train metrics:{\"loss\": 0.028074368637800218, \"error\": 0.0}\n",
      "Learning Rate : 0.01\n",
      "Epoch Time: 6.99 sec\n",
      "Pure training time: 186.99 sec\n"
     ]
    }
   ],
   "source": [
    "%run main.py --dataset cifar10 --model resnet --dataroot=data/cifar10/ --filters 1.0 --lr 0.01 \\\n",
    "--resume checkpoints/cifar100_resnet_1_0_forget_None_lr_0_1_bs_128_ls_ce_wd_0_0005_seed_1_30.pt --disable-bn \\\n",
    "--weight-decay 0.0005 --batch-size 128 --epochs 26 --seed 1 \\\n",
    "--split train --confuse-mode --forget-class 0,1 --num-to-forget 200"
   ]
  },
  {
   "cell_type": "markdown",
   "metadata": {},
   "source": [
    "### Retrain"
   ]
  },
  {
   "cell_type": "code",
   "execution_count": null,
   "metadata": {
    "scrolled": true
   },
   "outputs": [],
   "source": [
    "#%run main.py --dataset small_lacuna6 --model allcnn --dataroot=data/lacuna10/ --filters 1.0 --lr 0.001 \\\n",
    "#--resume checkpoints/lacuna100_allcnn_1_0_forget_None_lr_0_1_bs_128_ls_ce_wd_0_0005_seed_1_30.pt --disable-bn \\\n",
    "#--weight-decay 0.1 --batch-size 128 --epochs 31 \\\n",
    "#--forget-class 0,1,2,3,4,5 --num-to-forget 300 --seed 3"
   ]
  },
  {
   "cell_type": "code",
   "execution_count": 11,
   "metadata": {},
   "outputs": [
    {
     "name": "stdout",
     "output_type": "stream",
     "text": [
      "Checkpoint name: cifar10_resnet_1_0_forget_[0, 1]_num_200_lr_0_01_bs_128_ls_ce_wd_0_0005_seed_1\n",
      "[Logging in cifar10_resnet_1_0_forget_[0, 1]_num_200_lr_0_01_bs_128_ls_ce_wd_0_0005_seed_1_training]\n",
      "Files already downloaded and verified\n",
      "Files already downloaded and verified\n",
      "confuse mode: True\n",
      "split mode: forget\n",
      "[22462  6646 36135 23850  1434  5306 18141  4049 11418 10150 21959  2340\n",
      " 28237 23045 33372 17719 28726 24235 36477 30535 34830 13742  9505  9925\n",
      "  8968  5340 32206 23111 36876 37753 18138   346  9984 33198 10884 17838\n",
      "  5290 34800  8839 26496 22062 19691 25490 32745 29623 37043 38544 16174\n",
      " 26055 17790 13062  3564 33467 19387 12727 10616  5925 38573 20823 25972\n",
      "  2232 39091 16018 31897  6216 31382  9265  4834 15220 13636 20376 17239\n",
      "  3784 30964 11139 32269 25536 37777  9464 31770 12377 14878 22419 35384\n",
      " 33593 13768  8813 14913  1918  3157 22036 26124 26696 32374   359 18794\n",
      " 37201 12935 39835  6800 34930 21153  1332   444 26453 22013  2780 28519\n",
      " 32137 33713  9783 18691  5872  5426 26608  5517 26355 34576 15284  9727\n",
      " 11908 16177  5566 33238 31572 31990  6716 36313 26521  8618 25781 10358\n",
      "  9601   341  6301 36220 15826  3522  4898 31528 28091 12132 15300  5732\n",
      " 10974 23654 30805 26574  5750  7350 19049 24064  7229  8594 31711 15489\n",
      " 21523 27315  8146 28736 36469 37611 32999 39736 27867 33821 34312  3036\n",
      " 11154 19416 37108 22615 36649 11823  7061 36430 18557 37081  8899 29319\n",
      "  9990 26523 33672  7326 39648 21642   132  4050  6683  5979 20121 36524\n",
      " 22540 33421 27229 13730 29155 25346  2670   732]\n",
      "Number of Classes: 10\n",
      "[0] train metrics:{\"loss\": 0.8776707893371583, \"error\": 0.310325}\n",
      "Learning Rate : 0.01\n",
      "[0] test metrics:{\"loss\": 0.6726855438232422, \"error\": 0.2333}\n",
      "Learning Rate : 0.01\n",
      "Epoch Time: 8.11 sec\n",
      "[1] train metrics:{\"loss\": 0.5546332703590393, \"error\": 0.19135}\n",
      "Learning Rate : 0.01\n",
      "Epoch Time: 7.18 sec\n",
      "[2] train metrics:{\"loss\": 0.411030176115036, \"error\": 0.1398}\n",
      "Learning Rate : 0.01\n",
      "Epoch Time: 6.92 sec\n",
      "[3] train metrics:{\"loss\": 0.30049551043510436, \"error\": 0.0975}\n",
      "Learning Rate : 0.01\n",
      "Epoch Time: 7.51 sec\n",
      "[4] train metrics:{\"loss\": 0.21082578921318054, \"error\": 0.065275}\n",
      "Learning Rate : 0.01\n",
      "Epoch Time: 6.96 sec\n",
      "[5] train metrics:{\"loss\": 0.13203115015029906, \"error\": 0.035125}\n",
      "Learning Rate : 0.01\n",
      "Epoch Time: 7.02 sec\n",
      "[6] train metrics:{\"loss\": 0.08035368938446046, \"error\": 0.015675}\n",
      "Learning Rate : 0.01\n",
      "Epoch Time: 7.4 sec\n",
      "[7] train metrics:{\"loss\": 0.05315162697434425, \"error\": 0.004475}\n",
      "Learning Rate : 0.01\n",
      "Epoch Time: 7.51 sec\n",
      "[8] train metrics:{\"loss\": 0.041563900208473205, \"error\": 0.001025}\n",
      "Learning Rate : 0.01\n",
      "Epoch Time: 7.22 sec\n",
      "[9] train metrics:{\"loss\": 0.03547775356173515, \"error\": 0.0}\n",
      "Learning Rate : 0.01\n",
      "Epoch Time: 7.24 sec\n",
      "[10] train metrics:{\"loss\": 0.0340896775662899, \"error\": 0.0}\n",
      "Learning Rate : 0.01\n",
      "Epoch Time: 7.24 sec\n",
      "[11] train metrics:{\"loss\": 0.03323477267026901, \"error\": 0.0}\n",
      "Learning Rate : 0.01\n",
      "Epoch Time: 7.55 sec\n",
      "[12] train metrics:{\"loss\": 0.03250679121613503, \"error\": 0.0}\n",
      "Learning Rate : 0.01\n",
      "Epoch Time: 7.08 sec\n",
      "[13] train metrics:{\"loss\": 0.03184912375807762, \"error\": 0.0}\n",
      "Learning Rate : 0.01\n",
      "Epoch Time: 7.27 sec\n",
      "[14] train metrics:{\"loss\": 0.031240232867002487, \"error\": 0.0}\n",
      "Learning Rate : 0.01\n",
      "Epoch Time: 7.44 sec\n",
      "[15] train metrics:{\"loss\": 0.030659463116526602, \"error\": 0.0}\n",
      "Learning Rate : 0.01\n",
      "Epoch Time: 7.46 sec\n",
      "[16] train metrics:{\"loss\": 0.030124190509319304, \"error\": 0.0}\n",
      "Learning Rate : 0.01\n",
      "Epoch Time: 7.33 sec\n",
      "[17] train metrics:{\"loss\": 0.02962413500249386, \"error\": 0.0}\n",
      "Learning Rate : 0.01\n",
      "Epoch Time: 7.38 sec\n",
      "[18] train metrics:{\"loss\": 0.029126183646917343, \"error\": 0.0}\n",
      "Learning Rate : 0.01\n",
      "Epoch Time: 7.36 sec\n",
      "[19] train metrics:{\"loss\": 0.028692543506622314, \"error\": 0.0}\n",
      "Learning Rate : 0.01\n",
      "Epoch Time: 7.54 sec\n",
      "[20] train metrics:{\"loss\": 0.028240641552209855, \"error\": 0.0}\n",
      "Learning Rate : 0.01\n",
      "Epoch Time: 7.35 sec\n",
      "[21] train metrics:{\"loss\": 0.02783956998884678, \"error\": 0.0}\n",
      "Learning Rate : 0.01\n",
      "Epoch Time: 7.38 sec\n",
      "[22] train metrics:{\"loss\": 0.02746837635934353, \"error\": 0.0}\n",
      "Learning Rate : 0.01\n",
      "Epoch Time: 7.38 sec\n",
      "[23] train metrics:{\"loss\": 0.027107982075214386, \"error\": 0.0}\n",
      "Learning Rate : 0.01\n",
      "Epoch Time: 7.32 sec\n",
      "[24] train metrics:{\"loss\": 0.02672754344344139, \"error\": 0.0}\n",
      "Learning Rate : 0.01\n",
      "Epoch Time: 7.3 sec\n",
      "[25] train metrics:{\"loss\": 0.026383602434396743, \"error\": 0.0}\n",
      "Learning Rate : 0.01\n",
      "Epoch Time: 7.26 sec\n",
      "Pure training time: 189.24999999999997 sec\n"
     ]
    }
   ],
   "source": [
    "%run main.py --dataset cifar10 --model resnet --dataroot=data/cifar10/ --filters 1.0 --lr 0.01 \\\n",
    "--resume checkpoints/cifar100_resnet_1_0_forget_None_lr_0_1_bs_128_ls_ce_wd_0_0005_seed_1_30.pt --disable-bn \\\n",
    "--weight-decay 0.0005 --batch-size 128 --epochs 26 --seed 1 \\\n",
    "--split forget --confuse-mode --forget-class 0,1 --num-to-forget 200"
   ]
  },
  {
   "cell_type": "markdown",
   "metadata": {},
   "source": [
    "### Logs"
   ]
  },
  {
   "cell_type": "code",
   "execution_count": 12,
   "metadata": {},
   "outputs": [],
   "source": [
    "log_dict={}\n",
    "training_epochs=25"
   ]
  },
  {
   "cell_type": "code",
   "execution_count": 13,
   "metadata": {},
   "outputs": [],
   "source": [
    "log_dict['epoch']=training_epochs"
   ]
  },
  {
   "cell_type": "code",
   "execution_count": 14,
   "metadata": {},
   "outputs": [
    {
     "name": "stdout",
     "output_type": "stream",
     "text": [
      "Total Number of Parameters: 11175178\n"
     ]
    }
   ],
   "source": [
    "parameter_count(copy.deepcopy(model))"
   ]
  },
  {
   "cell_type": "markdown",
   "metadata": {},
   "source": [
    "### Loads checkpoints"
   ]
  },
  {
   "cell_type": "code",
   "execution_count": 15,
   "metadata": {},
   "outputs": [],
   "source": [
    "import copy\n",
    "model0 = copy.deepcopy(model)\n",
    "model_initial = copy.deepcopy(model)\n",
    "\n",
    "arch = args.model \n",
    "filters=args.filters\n",
    "arch_filters = arch +'_'+ str(filters).replace('.','_')\n",
    "augment = False\n",
    "dataset = args.dataset\n",
    "class_to_forget = args.forget_class\n",
    "init_checkpoint = f\"checkpoints/{args.name}_init.pt\"\n",
    "num_classes=args.num_classes\n",
    "num_to_forget = args.num_to_forget\n",
    "num_total = len(train_loader.dataset)\n",
    "num_to_retain = num_total - num_to_forget\n",
    "seed = args.seed\n",
    "unfreeze_start = None\n",
    "\n",
    "learningrate=f\"lr_{str(args.lr).replace('.','_')}\"\n",
    "batch_size=f\"_bs_{str(args.batch_size)}\"\n",
    "lossfn=f\"_ls_{args.lossfn}\"\n",
    "wd=f\"_wd_{str(args.weight_decay).replace('.','_')}\"\n",
    "seed_name=f\"_seed_{args.seed}_\"\n",
    "\n",
    "num_tag = '' if num_to_forget is None else f'_num_{num_to_forget}'\n",
    "unfreeze_tag = '_' if unfreeze_start is None else f'_unfreeze_from_{unfreeze_start}_'\n",
    "augment_tag = '' if not augment else f'augment_'\n",
    "\n",
    "m_name = f'checkpoints/{dataset}_{arch_filters}_forget_None{unfreeze_tag}{augment_tag}{learningrate}{batch_size}{lossfn}{wd}{seed_name}{training_epochs}.pt'\n",
    "m0_name = f'checkpoints/{dataset}_{arch_filters}_forget_{class_to_forget}{num_tag}{unfreeze_tag}{augment_tag}{learningrate}{batch_size}{lossfn}{wd}{seed_name}{training_epochs}.pt'\n",
    "\n",
    "model.load_state_dict(torch.load(m_name))\n",
    "model0.load_state_dict(torch.load(m0_name))\n",
    "model_initial.load_state_dict(torch.load(init_checkpoint))\n",
    "\n",
    "teacher = copy.deepcopy(model)\n",
    "student = copy.deepcopy(model)\n",
    "\n",
    "model.cuda()\n",
    "model0.cuda()\n",
    "\n",
    "\n",
    "for p in model.parameters():\n",
    "    p.data0 = p.data.clone()\n",
    "for p in model0.parameters():\n",
    "    p.data0 = p.data.clone()"
   ]
  },
  {
   "cell_type": "code",
   "execution_count": 16,
   "metadata": {},
   "outputs": [],
   "source": [
    "log_dict['args']=args"
   ]
  },
  {
   "cell_type": "code",
   "execution_count": 17,
   "metadata": {},
   "outputs": [],
   "source": [
    "model_init = ntk_init(init_checkpoint,args.seed)\n",
    "for p in model_init.parameters():\n",
    "    p.data0 = p.data.clone()"
   ]
  },
  {
   "cell_type": "code",
   "execution_count": 18,
   "metadata": {
    "scrolled": true
   },
   "outputs": [
    {
     "name": "stdout",
     "output_type": "stream",
     "text": [
      "Distance: 10.362852075030466\n",
      "Normalized Distance: 0.09396269883651323\n"
     ]
    }
   ],
   "source": [
    "log_dict['dist_Original_Original_init']= distance(model_init,model)"
   ]
  },
  {
   "cell_type": "markdown",
   "metadata": {},
   "source": [
    "### Data Loader"
   ]
  },
  {
   "cell_type": "code",
   "execution_count": 19,
   "metadata": {},
   "outputs": [],
   "source": [
    "args.retain_bs = 32\n",
    "args.forget_bs = 32"
   ]
  },
  {
   "cell_type": "code",
   "execution_count": 26,
   "metadata": {},
   "outputs": [
    {
     "name": "stdout",
     "output_type": "stream",
     "text": [
      "Files already downloaded and verified\n",
      "Files already downloaded and verified\n",
      "confuse mode: True\n",
      "split mode: train\n",
      "[22462  6646 36135 23850  1434  5306 18141  4049 11418 10150 21959  2340\n",
      " 28237 23045 33372 17719 28726 24235 36477 30535 34830 13742  9505  9925\n",
      "  8968  5340 32206 23111 36876 37753 18138   346  9984 33198 10884 17838\n",
      "  5290 34800  8839 26496 22062 19691 25490 32745 29623 37043 38544 16174\n",
      " 26055 17790 13062  3564 33467 19387 12727 10616  5925 38573 20823 25972\n",
      "  2232 39091 16018 31897  6216 31382  9265  4834 15220 13636 20376 17239\n",
      "  3784 30964 11139 32269 25536 37777  9464 31770 12377 14878 22419 35384\n",
      " 33593 13768  8813 14913  1918  3157 22036 26124 26696 32374   359 18794\n",
      " 37201 12935 39835  6800 34930 21153  1332   444 26453 22013  2780 28519\n",
      " 32137 33713  9783 18691  5872  5426 26608  5517 26355 34576 15284  9727\n",
      " 11908 16177  5566 33238 31572 31990  6716 36313 26521  8618 25781 10358\n",
      "  9601   341  6301 36220 15826  3522  4898 31528 28091 12132 15300  5732\n",
      " 10974 23654 30805 26574  5750  7350 19049 24064  7229  8594 31711 15489\n",
      " 21523 27315  8146 28736 36469 37611 32999 39736 27867 33821 34312  3036\n",
      " 11154 19416 37108 22615 36649 11823  7061 36430 18557 37081  8899 29319\n",
      "  9990 26523 33672  7326 39648 21642   132  4050  6683  5979 20121 36524\n",
      " 22540 33421 27229 13730 29155 25346  2670   732]\n",
      "Files already downloaded and verified\n",
      "Files already downloaded and verified\n",
      "confuse mode: True\n",
      "split mode: forget\n",
      "[22462  6646 36135 23850  1434  5306 18141  4049 11418 10150 21959  2340\n",
      " 28237 23045 33372 17719 28726 24235 36477 30535 34830 13742  9505  9925\n",
      "  8968  5340 32206 23111 36876 37753 18138   346  9984 33198 10884 17838\n",
      "  5290 34800  8839 26496 22062 19691 25490 32745 29623 37043 38544 16174\n",
      " 26055 17790 13062  3564 33467 19387 12727 10616  5925 38573 20823 25972\n",
      "  2232 39091 16018 31897  6216 31382  9265  4834 15220 13636 20376 17239\n",
      "  3784 30964 11139 32269 25536 37777  9464 31770 12377 14878 22419 35384\n",
      " 33593 13768  8813 14913  1918  3157 22036 26124 26696 32374   359 18794\n",
      " 37201 12935 39835  6800 34930 21153  1332   444 26453 22013  2780 28519\n",
      " 32137 33713  9783 18691  5872  5426 26608  5517 26355 34576 15284  9727\n",
      " 11908 16177  5566 33238 31572 31990  6716 36313 26521  8618 25781 10358\n",
      "  9601   341  6301 36220 15826  3522  4898 31528 28091 12132 15300  5732\n",
      " 10974 23654 30805 26574  5750  7350 19049 24064  7229  8594 31711 15489\n",
      " 21523 27315  8146 28736 36469 37611 32999 39736 27867 33821 34312  3036\n",
      " 11154 19416 37108 22615 36649 11823  7061 36430 18557 37081  8899 29319\n",
      "  9990 26523 33672  7326 39648 21642   132  4050  6683  5979 20121 36524\n",
      " 22540 33421 27229 13730 29155 25346  2670   732]\n"
     ]
    }
   ],
   "source": [
    "train_loader_full, valid_loader_full, test_loader_full = datasets.get_loaders(dataset, split=\"train\",confuse_mode=True,class_to_replace=class_to_forget, num_indexes_to_replace=num_to_forget, batch_size=args.batch_size, seed=seed, root=args.dataroot, augment=False, shuffle=True)\n",
    "marked_loader, _, _ = datasets.get_loaders(dataset, split=\"forget\", confuse_mode=True,class_to_replace=class_to_forget, num_indexes_to_replace=num_to_forget, only_mark=True, batch_size=1, seed=seed, root=args.dataroot, augment=False, shuffle=True)\n",
    "\n",
    "def replace_loader_dataset(data_loader, dataset, batch_size=args.batch_size, seed=1, shuffle=True):\n",
    "    manual_seed(seed)\n",
    "    loader_args = {'num_workers': 0, 'pin_memory': False}\n",
    "    def _init_fn(worker_id):\n",
    "        np.random.seed(int(seed))\n",
    "    return torch.utils.data.DataLoader(dataset, batch_size=batch_size,num_workers=0,pin_memory=True,shuffle=shuffle)\n",
    "    \n",
    "forget_dataset = copy.deepcopy(marked_loader.dataset)\n",
    "marked = forget_dataset.targets < 0\n",
    "forget_dataset.data = forget_dataset.data[marked]\n",
    "forget_dataset.targets = - forget_dataset.targets[marked] - 1\n",
    "forget_loader = replace_loader_dataset(train_loader_full, forget_dataset, batch_size=args.forget_bs, seed=seed, shuffle=True)\n",
    "\n",
    "retain_dataset = copy.deepcopy(marked_loader.dataset)\n",
    "marked = retain_dataset.targets >= 0\n",
    "retain_dataset.data = retain_dataset.data[marked]\n",
    "retain_dataset.targets = retain_dataset.targets[marked]\n",
    "retain_loader = replace_loader_dataset(train_loader_full, retain_dataset, batch_size=args.retain_bs, seed=seed, shuffle=True)\n",
    "\n",
    "assert(len(forget_dataset) + len(retain_dataset) == len(train_loader_full.dataset))"
   ]
  },
  {
   "cell_type": "code",
   "execution_count": 22,
   "metadata": {},
   "outputs": [
    {
     "name": "stdout",
     "output_type": "stream",
     "text": [
      "200\n",
      "39800\n",
      "10000\n",
      "40000\n",
      "{6: 4000, 9: 4000, 4: 4000, 1: 4000, 2: 4000, 8: 4000, 3: 4000, 7: 4000, 5: 4000, 0: 4000}\n"
     ]
    }
   ],
   "source": [
    "print (len(forget_loader.dataset))\n",
    "print (len(retain_loader.dataset))\n",
    "print (len(test_loader_full.dataset))\n",
    "print (len(train_loader_full.dataset))\n",
    "from collections import Counter\n",
    "print(dict(Counter(train_loader_full.dataset.targets)))"
   ]
  },
  {
   "cell_type": "markdown",
   "metadata": {},
   "source": [
    "# SGDA Forgetting"
   ]
  },
  {
   "cell_type": "code",
   "execution_count": 68,
   "metadata": {},
   "outputs": [],
   "source": [
    "args.optim = 'sgd'\n",
    "args.gamma = 1\n",
    "args.alpha = 0.01\n",
    "args.beta = 0\n",
    "args.smoothing = 0.5\n",
    "args.msteps = 2\n",
    "args.clip = 0.5\n",
    "args.sstart = 10\n",
    "args.kd_T = 2\n",
    "args.distill = 'kd'\n",
    "\n",
    "args.sgda_epochs = 10\n",
    "args.sgda_learning_rate = 0.005\n",
    "args.lr_decay_epochs = [7,10,10]\n",
    "args.lr_decay_rate = 0.1\n",
    "args.sgda_weight_decay = 5e-4\n",
    "args.sgda_momentum = 0.9"
   ]
  },
  {
   "cell_type": "code",
   "execution_count": 69,
   "metadata": {},
   "outputs": [],
   "source": [
    "model_t = copy.deepcopy(teacher)\n",
    "model_s = copy.deepcopy(student)\n",
    "#model_s = models.get_model(arch, num_classes=num_classes, filters_percentage=filters).to(args.device)"
   ]
  },
  {
   "cell_type": "code",
   "execution_count": 70,
   "metadata": {},
   "outputs": [],
   "source": [
    "#this is from https://github.com/ojus1/SmoothedGradientDescentAscent/blob/main/SGDA.py\n",
    "#For SGDA smoothing\n",
    "beta = 0.1\n",
    "def avg_fn(averaged_model_parameter, model_parameter, num_averaged): return (\n",
    "    1 - beta) * averaged_model_parameter + beta * model_parameter\n",
    "swa_model = torch.optim.swa_utils.AveragedModel(\n",
    "    model_s, avg_fn=avg_fn)"
   ]
  },
  {
   "cell_type": "code",
   "execution_count": 71,
   "metadata": {},
   "outputs": [],
   "source": [
    "module_list = nn.ModuleList([])\n",
    "module_list.append(model_s)\n",
    "trainable_list = nn.ModuleList([])\n",
    "trainable_list.append(model_s)\n",
    "\n",
    "criterion_cls = nn.CrossEntropyLoss()\n",
    "criterion_div = DistillKL(args.kd_T)\n",
    "criterion_kd = DistillKL(args.kd_T)\n",
    "\n",
    "\n",
    "criterion_list = nn.ModuleList([])\n",
    "criterion_list.append(criterion_cls)    # classification loss\n",
    "criterion_list.append(criterion_div)    # KL divergence loss, original knowledge distillation\n",
    "criterion_list.append(criterion_kd)     # other knowledge distillation loss\n",
    "\n",
    "# optimizer\n",
    "if args.optim == \"sgd\":\n",
    "    optimizer = optim.SGD(trainable_list.parameters(),\n",
    "                          lr=args.sgda_learning_rate,\n",
    "                          momentum=args.sgda_momentum,\n",
    "                          weight_decay=args.sgda_weight_decay)\n",
    "elif args.optim == \"adam\": \n",
    "    optimizer = optim.Adam(trainable_list.parameters(),\n",
    "                          lr=args.sgda_learning_rate,\n",
    "                          weight_decay=args.sgda_weight_decay)\n",
    "elif args.optim == \"rmsp\":\n",
    "    optimizer = optim.RMSprop(trainable_list.parameters(),\n",
    "                          lr=args.sgda_learning_rate,\n",
    "                          momentum=args.sgda_momentum,\n",
    "                          weight_decay=args.sgda_weight_decay)"
   ]
  },
  {
   "cell_type": "code",
   "execution_count": 72,
   "metadata": {},
   "outputs": [],
   "source": [
    "module_list.append(model_t)\n",
    "\n",
    "if torch.cuda.is_available():\n",
    "    module_list.cuda()\n",
    "    criterion_list.cuda()\n",
    "    import torch.backends.cudnn as cudnn\n",
    "    cudnn.benchmark = True\n",
    "    swa_model.cuda()"
   ]
  },
  {
   "cell_type": "code",
   "execution_count": 73,
   "metadata": {},
   "outputs": [
    {
     "name": "stdout",
     "output_type": "stream",
     "text": [
      "==> SCRUB unlearning ...\n"
     ]
    },
    {
     "name": "stderr",
     "output_type": "stream",
     "text": [
      "/home/zihao/anaconda3/envs/zihao/lib/python3.10/site-packages/torch/nn/_reduction.py:42: UserWarning: size_average and reduce args will be deprecated, please use reduction='sum' instead.\n",
      "  warnings.warn(warning.format(ret))\n"
     ]
    },
    {
     "name": "stdout",
     "output_type": "stream",
     "text": [
      " * Acc@1 84.837 \n",
      "maximize loss: -41.94\t minimize loss: 3.42\t train_acc: 84.83668518066406\n",
      "==> SCRUB unlearning ...\n"
     ]
    },
    {
     "name": "stderr",
     "output_type": "stream",
     "text": [
      "/home/zihao/anaconda3/envs/zihao/lib/python3.10/site-packages/torch/nn/_reduction.py:42: UserWarning: size_average and reduce args will be deprecated, please use reduction='sum' instead.\n",
      "  warnings.warn(warning.format(ret))\n"
     ]
    },
    {
     "name": "stdout",
     "output_type": "stream",
     "text": [
      " * Acc@1 86.387 \n",
      "maximize loss: -31.25\t minimize loss: 2.55\t train_acc: 86.38693237304688\n",
      "==> SCRUB unlearning ...\n"
     ]
    },
    {
     "name": "stderr",
     "output_type": "stream",
     "text": [
      "/home/zihao/anaconda3/envs/zihao/lib/python3.10/site-packages/torch/nn/_reduction.py:42: UserWarning: size_average and reduce args will be deprecated, please use reduction='sum' instead.\n",
      "  warnings.warn(warning.format(ret))\n"
     ]
    },
    {
     "name": "stdout",
     "output_type": "stream",
     "text": [
      " * Acc@1 88.606 \n",
      "maximize loss: 0.00\t minimize loss: 1.04\t train_acc: 88.60552978515625\n",
      "==> SCRUB unlearning ...\n"
     ]
    },
    {
     "name": "stderr",
     "output_type": "stream",
     "text": [
      "/home/zihao/anaconda3/envs/zihao/lib/python3.10/site-packages/torch/nn/_reduction.py:42: UserWarning: size_average and reduce args will be deprecated, please use reduction='sum' instead.\n",
      "  warnings.warn(warning.format(ret))\n"
     ]
    },
    {
     "name": "stdout",
     "output_type": "stream",
     "text": [
      " * Acc@1 88.686 \n",
      "maximize loss: 0.00\t minimize loss: 1.03\t train_acc: 88.68592834472656\n",
      "==> SCRUB unlearning ...\n"
     ]
    },
    {
     "name": "stderr",
     "output_type": "stream",
     "text": [
      "/home/zihao/anaconda3/envs/zihao/lib/python3.10/site-packages/torch/nn/_reduction.py:42: UserWarning: size_average and reduce args will be deprecated, please use reduction='sum' instead.\n",
      "  warnings.warn(warning.format(ret))\n"
     ]
    },
    {
     "name": "stdout",
     "output_type": "stream",
     "text": [
      " * Acc@1 88.613 \n",
      "maximize loss: 0.00\t minimize loss: 1.04\t train_acc: 88.61306762695312\n",
      "==> SCRUB unlearning ...\n"
     ]
    },
    {
     "name": "stderr",
     "output_type": "stream",
     "text": [
      "/home/zihao/anaconda3/envs/zihao/lib/python3.10/site-packages/torch/nn/_reduction.py:42: UserWarning: size_average and reduce args will be deprecated, please use reduction='sum' instead.\n",
      "  warnings.warn(warning.format(ret))\n"
     ]
    },
    {
     "name": "stdout",
     "output_type": "stream",
     "text": [
      " * Acc@1 88.510 \n",
      "maximize loss: 0.00\t minimize loss: 1.04\t train_acc: 88.51004791259766\n",
      "==> SCRUB unlearning ...\n"
     ]
    },
    {
     "name": "stderr",
     "output_type": "stream",
     "text": [
      "/home/zihao/anaconda3/envs/zihao/lib/python3.10/site-packages/torch/nn/_reduction.py:42: UserWarning: size_average and reduce args will be deprecated, please use reduction='sum' instead.\n",
      "  warnings.warn(warning.format(ret))\n"
     ]
    },
    {
     "name": "stdout",
     "output_type": "stream",
     "text": [
      " * Acc@1 88.485 \n",
      "maximize loss: 0.00\t minimize loss: 1.04\t train_acc: 88.48492431640625\n",
      "==> SCRUB unlearning ...\n"
     ]
    },
    {
     "name": "stderr",
     "output_type": "stream",
     "text": [
      "/home/zihao/anaconda3/envs/zihao/lib/python3.10/site-packages/torch/nn/_reduction.py:42: UserWarning: size_average and reduce args will be deprecated, please use reduction='sum' instead.\n",
      "  warnings.warn(warning.format(ret))\n"
     ]
    },
    {
     "name": "stdout",
     "output_type": "stream",
     "text": [
      " * Acc@1 87.696 \n",
      "maximize loss: 0.00\t minimize loss: 0.54\t train_acc: 87.69597625732422\n",
      "==> SCRUB unlearning ...\n"
     ]
    },
    {
     "name": "stderr",
     "output_type": "stream",
     "text": [
      "/home/zihao/anaconda3/envs/zihao/lib/python3.10/site-packages/torch/nn/_reduction.py:42: UserWarning: size_average and reduce args will be deprecated, please use reduction='sum' instead.\n",
      "  warnings.warn(warning.format(ret))\n"
     ]
    },
    {
     "name": "stdout",
     "output_type": "stream",
     "text": [
      " * Acc@1 87.485 \n",
      "maximize loss: 0.00\t minimize loss: 0.52\t train_acc: 87.48492431640625\n",
      "==> SCRUB unlearning ...\n"
     ]
    },
    {
     "name": "stderr",
     "output_type": "stream",
     "text": [
      "/home/zihao/anaconda3/envs/zihao/lib/python3.10/site-packages/torch/nn/_reduction.py:42: UserWarning: size_average and reduce args will be deprecated, please use reduction='sum' instead.\n",
      "  warnings.warn(warning.format(ret))\n"
     ]
    },
    {
     "name": "stdout",
     "output_type": "stream",
     "text": [
      " * Acc@1 87.485 \n",
      "maximize loss: 0.00\t minimize loss: 0.52\t train_acc: 87.48492431640625\n"
     ]
    }
   ],
   "source": [
    "t1 = time.time()\n",
    "acc_rs = []\n",
    "acc_fs = []\n",
    "acc_vs = []\n",
    "ic_rs = []\n",
    "ic_vs = []\n",
    "fgt_rs = []\n",
    "fgt_vs = []\n",
    "for epoch in range(1, args.sgda_epochs + 1):\n",
    "\n",
    "    lr = sgda_adjust_learning_rate(epoch, args, optimizer)\n",
    "    print(\"==> SCRUB unlearning ...\")\n",
    "    ic_r, fgt_r = interclass_confusion(model_s, retain_loader, class_to_forget, \"SCRUB\")\n",
    "    ic_v, fgt_v = interclass_confusion(model_s, valid_loader_full, class_to_forget, \"SCRUB\")\n",
    "    ic_rs.append(ic_r)\n",
    "    ic_vs.append(ic_v)\n",
    "    fgt_rs.append(fgt_r)\n",
    "    fgt_vs.append(fgt_v)\n",
    "\n",
    "    acc_r, acc5_r, loss_r = validate(retain_loader, model_s, criterion_cls, args, True)\n",
    "    acc_f, acc5_f, loss_f = validate(forget_loader, model_s, criterion_cls, args, True)\n",
    "    acc_v, acc5_v, loss_v = validate(valid_loader_full, model_s, criterion_cls, args, True)\n",
    "    acc_rs.append(100-acc_r.item())\n",
    "    acc_fs.append(100-acc_f.item())\n",
    "    acc_vs.append(100-acc_v.item())\n",
    "\n",
    "\n",
    "    maximize_loss = 0\n",
    "    if epoch <= args.msteps:\n",
    "        maximize_loss = train_distill(epoch, forget_loader, module_list, swa_model, criterion_list, optimizer, args, \"maximize\")\n",
    "    train_acc, train_loss = train_distill(epoch, retain_loader, module_list, swa_model, criterion_list, optimizer, args, \"minimize\",)\n",
    "    if epoch >= args.sstart:\n",
    "        swa_model.update_parameters(model_s)\n",
    "\n",
    "    \n",
    "    print (\"maximize loss: {:.2f}\\t minimize loss: {:.2f}\\t train_acc: {}\".format(maximize_loss, train_loss, train_acc))\n",
    "ic_r, fgt_r = interclass_confusion(model_s, retain_loader, class_to_forget, \"SCRUB\")\n",
    "ic_v, fgt_v = interclass_confusion(model_s, valid_loader_full, class_to_forget, \"SCRUB\")\n",
    "ic_rs.append(ic_r)\n",
    "ic_vs.append(ic_v)\n",
    "fgt_rs.append(fgt_r)\n",
    "fgt_vs.append(fgt_v)\n",
    "acc_r, acc5_r, loss_r = validate(retain_loader, model_s, criterion_cls, args, True)\n",
    "acc_f, acc5_f, loss_f = validate(forget_loader, model_s, criterion_cls, args, True)\n",
    "acc_tv, acc5_v, loss_v = validate(valid_loader_full, model_s, criterion_cls, args, True)\n",
    "acc_rs.append(100-acc_r.item())\n",
    "acc_fs.append(100-acc_f.item())\n",
    "acc_vs.append(100-acc_v.item())\n"
   ]
  },
  {
   "cell_type": "code",
   "execution_count": 74,
   "metadata": {},
   "outputs": [
    {
     "name": "stderr",
     "output_type": "stream",
     "text": [
      "/tmp/ipykernel_395006/2812292199.py:16: UserWarning: FigureCanvasAgg is non-interactive, and thus cannot be shown\n",
      "  fig.show()\n"
     ]
    },
    {
     "data": {
      "image/png": "[encoded data removed]",
      "text/plain": [
       "<Figure size 900x1500 with 3 Axes>"
      ]
     },
     "metadata": {},
     "output_type": "display_data"
    }
   ],
   "source": [
    "from matplotlib import pyplot as plt\n",
    "fig, ax = plt.subplots(3,1,figsize=(9,15))\n",
    "indices = list(range(0,len(ic_rs)))\n",
    "ax[0].plot(indices, ic_rs, marker='*', color='red', alpha=1, label='ic-retain')\n",
    "ax[0].plot(indices, ic_vs, marker='o', color='blue', alpha=1, label='ic-val')\n",
    "ax[1].plot(indices, acc_rs, marker='*', color='green', alpha=1, label='acc-retain')\n",
    "ax[1].plot(indices, acc_vs, marker='o', color='brown', alpha=1, label='acc-valid')\n",
    "ax[2].plot(indices, acc_fs, marker='^', color='black', alpha=1, label='acc-forget')\n",
    "ax[0].legend(prop={'size': 14})\n",
    "ax[1].legend(prop={'size': 14})\n",
    "plt.tick_params(labelsize=12)\n",
    "ax[0].set_xlabel('epoch',size=14)\n",
    "ax[0].set_ylabel('error',size=14)\n",
    "ax[1].set_xlabel('epoch',size=14)\n",
    "ax[1].set_ylabel('error',size=14)\n",
    "fig.show()"
   ]
  },
  {
   "cell_type": "code",
   "execution_count": 75,
   "metadata": {},
   "outputs": [
    {
     "name": "stdout",
     "output_type": "stream",
     "text": [
      "[0.0, 0.07461538461538461, 0.09756410256410257, 0.07435897435897436, 0.09358974358974359, 0.09256410256410257, 0.12064102564102563, 0.14141025641025642, 0.12076923076923077, 0.11333333333333333, 0.11217948717948718]\n",
      "[0.1515, 0.209, 0.2355, 0.2065, 0.2345, 0.2285, 0.25, 0.26, 0.2475, 0.252, 0.2545]\n",
      "[0.0, 8.183418273925781, 9.902008056640625, 8.417083740234375, 9.766334533691406, 9.0904541015625, 10.871856689453125, 8.816581726074219, 10.547737121582031, 9.716079711914062, 9.341712951660156]\n",
      "[19.209999084472656, 22.919998168945312, 23.540000915527344, 23.25, 23.720001220703125, 23.56000518798828, 23.959999084472656, 23.69000244140625, 23.910003662109375, 23.550003051757812, 23.550003051757812]\n",
      "[0.0, 49.5, 55.0, 53.0, 48.5, 48.0, 55.0, 56.0, 50.5, 49.0, 49.0]\n"
     ]
    }
   ],
   "source": [
    "print(ic_rs)\n",
    "print(ic_vs)\n",
    "print(acc_rs)\n",
    "print(acc_vs)\n",
    "print(acc_fs)"
   ]
  },
  {
   "cell_type": "markdown",
   "metadata": {},
   "source": [
    "## Finetune"
   ]
  },
  {
   "cell_type": "code",
   "execution_count": null,
   "metadata": {},
   "outputs": [],
   "source": [
    "model_ft = copy.deepcopy(model)\n",
    "args.ft_bs = 64\n",
    "retain_loader = replace_loader_dataset(train_loader_full,retain_dataset, seed=seed, batch_size=args.ft_bs, shuffle=True)  \n",
    "finetune(model_ft, retain_loader, epochs=10, quiet=True, lr=0.01)"
   ]
  },
  {
   "cell_type": "markdown",
   "metadata": {},
   "source": [
    "## Negative Gradient"
   ]
  },
  {
   "cell_type": "code",
   "execution_count": null,
   "metadata": {},
   "outputs": [],
   "source": [
    "args.ng_alpha = 0.9999\n",
    "args.ng_epochs = 10\n",
    "args.ng_lr = 0.01\n",
    "model_ng = copy.deepcopy(model)\n",
    "args.ng_bs = 128\n",
    "retain_loader = replace_loader_dataset(train_loader_full,retain_dataset, seed=seed, batch_size=args.ng_bs, shuffle=True)\n",
    "negative_grad(model_ng, retain_loader, forget_loader, alpha=args.ng_alpha, epochs=args.ng_epochs, quiet=True, lr=args.ng_lr, args=args)"
   ]
  },
  {
   "cell_type": "markdown",
   "metadata": {},
   "source": [
    "## Catastrophic Forgetting k layers"
   ]
  },
  {
   "cell_type": "code",
   "execution_count": null,
   "metadata": {},
   "outputs": [],
   "source": [
    "args.lr_decay_epochs = [10,15,20]\n",
    "args.cfk_lr = 0.01\n",
    "args.cfk_epochs = 10\n",
    "args.cfk_bs = 128\n",
    "retain_loader = replace_loader_dataset(train_loader_full,retain_dataset, seed=seed, batch_size=args.cfk_bs, shuffle=True)\n",
    "\n",
    "model_cfk = copy.deepcopy(model)\n",
    "\n",
    "for param in model_cfk.parameters():\n",
    "    param.requires_grad_(False)\n",
    "\n",
    "if args.model == 'allcnn':\n",
    "    layers = [9]\n",
    "    for k in layers:\n",
    "        for param in model_cfk.features[k].parameters():\n",
    "            param.requires_grad_(True)\n",
    "    \n",
    "elif args.model == \"resnet\":\n",
    "    for param in model_cfk.layer4.parameters():\n",
    "        param.requires_grad_(True)\n",
    "\n",
    "else:\n",
    "    raise NotImplementedError\n",
    "\n",
    "\n",
    "\n",
    "fk_fientune(model_cfk, retain_loader, args=args, epochs=args.cfk_epochs, quiet=True, lr=args.cfk_lr)\n",
    "cfk_time = t2-t1"
   ]
  },
  {
   "cell_type": "markdown",
   "metadata": {},
   "source": [
    "## Exact Unlearning k layers"
   ]
  },
  {
   "cell_type": "code",
   "execution_count": null,
   "metadata": {},
   "outputs": [],
   "source": [
    "args.lr_decay_epochs = [10,15,20]\n",
    "args.euk_lr = 0.01\n",
    "args.euk_epochs = training_epochs\n",
    "args.euk_bs = 64\n",
    "retain_loader = replace_loader_dataset(train_loader_full,retain_dataset, seed=seed, batch_size=args.euk_bs, shuffle=True)\n",
    "model_euk = copy.deepcopy(model)\n",
    "\n",
    "for param in model_euk.parameters():\n",
    "    param.requires_grad_(False)\n",
    "\n",
    "if args.model == 'allcnn':\n",
    "    with torch.no_grad():\n",
    "        for k in layers:\n",
    "            for i in range(0,3):\n",
    "                try:\n",
    "                    model_euk.features[k][i].weight.copy_(model_initial.features[k][i].weight)\n",
    "                except:\n",
    "                    print (\"block {}, layer {} does not have weights\".format(k,i))\n",
    "                try:\n",
    "                    model_euk.features[k][i].bias.copy_(model_initial.features[k][i].bias)\n",
    "                except:\n",
    "                    print (\"block {}, layer {} does not have bias\".format(k,i))\n",
    "        model_euk.classifier[0].weight.copy_(model_initial.classifier[0].weight)\n",
    "        model_euk.classifier[0].bias.copy_(model_initial.classifier[0].bias)\n",
    "    \n",
    "    for k in layers:\n",
    "        for param in model_euk.features[k].parameters():\n",
    "            param.requires_grad_(True)\n",
    "    \n",
    "elif args.model == \"resnet\":\n",
    "    with torch.no_grad():\n",
    "        for i in range(0,2):\n",
    "            try:\n",
    "                model_euk.layer4[i].bn1.weight.copy_(model_initial.layer4[i].bn1.weight)\n",
    "            except:\n",
    "                print (\"block 4, layer {} does not have weight\".format(i))\n",
    "            try:\n",
    "                model_euk.layer4[i].bn1.bias.copy_(model_initial.layer4[i].bn1.bias)\n",
    "            except:\n",
    "                print (\"block 4, layer {} does not have bias\".format(i))\n",
    "            try:\n",
    "                model_euk.layer4[i].conv1.weight.copy_(model_initial.layer4[i].conv1.weight)\n",
    "            except:\n",
    "                print (\"block 4, layer {} does not have weight\".format(i))\n",
    "            try:\n",
    "                model_euk.layer4[i].conv1.bias.copy_(model_initial.layer4[i].conv1.bias)\n",
    "            except:\n",
    "                print (\"block 4, layer {} does not have bias\".format(i))\n",
    "\n",
    "            try:\n",
    "                model_euk.layer4[i].bn2.weight.copy_(model_initial.layer4[i].bn2.weight)\n",
    "            except:\n",
    "                print (\"block 4, layer {} does not have weight\".format(i))\n",
    "            try:\n",
    "                model_euk.layer4[i].bn2.bias.copy_(model_initial.layer4[i].bn2.bias)\n",
    "            except:\n",
    "                print (\"block 4, layer {} does not have bias\".format(i))\n",
    "            try:\n",
    "                model_euk.layer4[i].conv2.weight.copy_(model_initial.layer4[i].conv2.weight)\n",
    "            except:\n",
    "                print (\"block 4, layer {} does not have weight\".format(i))\n",
    "            try:\n",
    "                model_euk.layer4[i].conv2.bias.copy_(model_initial.layer4[i].conv2.bias)\n",
    "            except:\n",
    "                print (\"block 4, layer {} does not have bias\".format(i))\n",
    "\n",
    "        model_euk.layer4[0].shortcut[0].weight.copy_(model_initial.layer4[0].shortcut[0].weight)\n",
    "        \n",
    "    for param in model_euk.layer4.parameters():\n",
    "        param.requires_grad_(True)\n",
    "\n",
    "else:\n",
    "    raise NotImplementedError\n",
    "\n",
    "fk_fientune(model_euk, retain_loader, epochs=args.euk_epochs, quiet=True, lr=args.euk_lr, args=args)\n",
    "euk_time = t2-t1"
   ]
  },
  {
   "cell_type": "markdown",
   "metadata": {},
   "source": [
    "## Readouts"
   ]
  },
  {
   "cell_type": "code",
   "execution_count": null,
   "metadata": {},
   "outputs": [],
   "source": [
    "train_loader_full, valid_loader_full, test_loader_full = datasets.get_loaders(dataset, split=\"train\",confuse_mode=True,class_to_replace=class_to_forget, num_indexes_to_replace=num_to_forget, batch_size=args.batch_size, seed=seed, root=args.dataroot, augment=False, shuffle=True)\n",
    "marked_loader, _, _ = datasets.get_loaders(dataset, split=\"forget\", confuse_mode=True,class_to_replace=class_to_forget, num_indexes_to_replace=num_to_forget, only_mark=True, batch_size=1, seed=seed, root=args.dataroot, augment=False, shuffle=True)\n",
    "\n",
    "def replace_loader_dataset(data_loader, dataset, batch_size=args.batch_size, seed=1, shuffle=True):\n",
    "    manual_seed(seed)\n",
    "    loader_args = {'num_workers': 0, 'pin_memory': False}\n",
    "    def _init_fn(worker_id):\n",
    "        np.random.seed(int(seed))\n",
    "    return torch.utils.data.DataLoader(dataset, batch_size=batch_size,num_workers=0,pin_memory=True,shuffle=shuffle)\n",
    "    \n",
    "forget_dataset = copy.deepcopy(marked_loader.dataset)\n",
    "marked = forget_dataset.targets < 0\n",
    "forget_dataset.data = forget_dataset.data[marked]\n",
    "forget_dataset.targets = - forget_dataset.targets[marked] - 1\n",
    "forget_loader = replace_loader_dataset(train_loader_full, forget_dataset, batch_size=args.forget_bs, seed=seed, shuffle=True)\n",
    "\n",
    "retain_dataset = copy.deepcopy(marked_loader.dataset)\n",
    "marked = retain_dataset.targets >= 0\n",
    "retain_dataset.data = retain_dataset.data[marked]\n",
    "retain_dataset.targets = retain_dataset.targets[marked]\n",
    "retain_loader = replace_loader_dataset(train_loader_full, retain_dataset, batch_size=args.retain_bs, seed=seed, shuffle=True)\n",
    "\n",
    "assert(len(forget_dataset) + len(retain_dataset) == len(train_loader_full.dataset))"
   ]
  },
  {
   "cell_type": "code",
   "execution_count": null,
   "metadata": {
    "scrolled": false
   },
   "outputs": [],
   "source": [
    "try: readouts\n",
    "except: readouts = {}\n",
    "\n",
    "#_,_=activations_predictions(copy.deepcopy(model),forget_loader,'Original_Model_D_f')\n",
    "#thresh=log_dict['Original_Model_D_f_loss']+1e-5\n",
    "#print(thresh)\n",
    "readouts[\"a\"] = all_readouts(test_loader_full, retain_loader, forget_loader, copy.deepcopy(model),thresh=None,name='Original')\n",
    "readouts[\"b\"] = all_readouts(test_loader_full, retain_loader, forget_loader, copy.deepcopy(model0),thresh=None,name='Retrain')\n",
    "readouts[\"c\"] = all_readouts(test_loader_full, retain_loader, forget_loader, copy.deepcopy(model_ft),thresh=None,name='Finetune')\n",
    "readouts[\"d\"] = all_readouts(test_loader_full, retain_loader, forget_loader, copy.deepcopy(model_ng),thresh=None,name='NegGrad')\n",
    "readouts[\"e\"] = all_readouts(test_loader_full, retain_loader, forget_loader, copy.deepcopy(model_cfk),thresh=None,name='CF-k')\n",
    "readouts[\"f\"] = all_readouts(test_loader_full, retain_loader, forget_loader, copy.deepcopy(model_euk),thresh=None,name='EU-k')\n",
    "readouts[\"h\"] = all_readouts(test_loader_full, retain_loader, forget_loader, copy.deepcopy(model_s),thresh=None,name='SCRUB')"
   ]
  }
 ],
 "metadata": {
  "kernelspec": {
   "display_name": "Python 3 (ipykernel)",
   "language": "python",
   "name": "python3"
  },
  "language_info": {
   "codemirror_mode": {
    "name": "ipython",
    "version": 3
   },
   "file_extension": ".py",
   "mimetype": "text/x-python",
   "name": "python",
   "nbconvert_exporter": "python",
   "pygments_lexer": "ipython3",
   "version": "3.10.6"
  }
 },
 "nbformat": 4,
 "nbformat_minor": 4
}
